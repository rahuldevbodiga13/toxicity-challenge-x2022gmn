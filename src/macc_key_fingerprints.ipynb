{
 "cells": [
  {
   "cell_type": "code",
   "execution_count": 1,
   "id": "2c4ed5d3",
   "metadata": {},
   "outputs": [],
   "source": [
    "from rdkit import Chem\n",
    "from rdkit.Chem import AllChem, Draw, DataStructs, MACCSkeys\n",
    "import pandas as pd\n",
    "from pathlib import Path\n",
    "import numpy as np\n",
    "from xgboost import XGBClassifier, plot_importance\n",
    "from sklearn.preprocessing import LabelEncoder, StandardScaler, MinMaxScaler\n",
    "from sklearn.model_selection import StratifiedKFold, cross_validate, train_test_split, cross_val_score\n",
    "from sklearn.metrics import f1_score, accuracy_score\n",
    "from tqdm import tqdm\n",
    "import matplotlib.pyplot as plt\n",
    "from hyperopt import fmin, STATUS_OK, tpe, Trials, hp, space_eval"
   ]
  },
  {
   "cell_type": "code",
   "execution_count": 2,
   "id": "4b949d40",
   "metadata": {},
   "outputs": [],
   "source": [
    "base_path = Path().cwd().joinpath('content/datasets/')\n",
    "train_df = pd.read_csv(base_path.joinpath('train_II.csv'))\n",
    "test_df = pd.read_csv(base_path.joinpath('test_II.csv'))"
   ]
  },
  {
   "cell_type": "code",
   "execution_count": 3,
   "id": "adfc54bf",
   "metadata": {},
   "outputs": [],
   "source": [
    "train_df[[\"Chemical Id\", \"Assay Id\"]] = train_df.Id.str.split(\n",
    "    \";\", expand=True\n",
    ")\n",
    "train_df.drop(\"Id\", axis=1, inplace=True)\n",
    "train_df = train_df[[\"Assay Id\", \"Chemical Id\", \"Expected\"]]\n",
    "\n",
    "test_df[[\"Chemical Id\", \"Assay Id\"]] = test_df.x.str.split(\";\", expand=True)\n",
    "test_df.drop(\"x\", axis=1, inplace=True)\n",
    "test_df = test_df[[\"Assay Id\", \"Chemical Id\"]]"
   ]
  },
  {
   "cell_type": "code",
   "execution_count": 4,
   "id": "c3f57b88",
   "metadata": {},
   "outputs": [],
   "source": [
    "def generate_macckey_fingerprints(data_frame, is_train=True):\n",
    "    \n",
    "    data_frame['molecules'] = data_frame['Chemical Id'].apply(lambda smile: Chem.MolFromSmiles(smile))\n",
    "    \n",
    "    if is_train:\n",
    "        data_frame.dropna(axis=0, inplace=True)\n",
    "        data_frame.reset_index(drop=True, inplace=True)\n",
    "    \n",
    "    macc_keys = np.array([np.array(MACCSkeys.GenMACCSKeys(mol)) for mol in tqdm(data_frame['molecules'])])\n",
    "    \n",
    "    COLUMNS = [f'FP{i}' for i in range(0, 167)]\n",
    "    \n",
    "    data_frame.drop(['Chemical Id', 'molecules'], axis=1, inplace=True)\n",
    "    \n",
    "    macc_keys_df = pd.DataFrame(data=macc_keys, columns=COLUMNS)\n",
    "    \n",
    "    return pd.concat([data_frame, macc_keys_df], axis=1)"
   ]
  },
  {
   "cell_type": "code",
   "execution_count": 5,
   "id": "ae9ebe3f",
   "metadata": {},
   "outputs": [
    {
     "name": "stderr",
     "output_type": "stream",
     "text": [
      "[16:20:20] Explicit valence for atom # 1 Si, 8, is greater than permitted\n",
      "[16:20:21] Explicit valence for atom # 1 Si, 8, is greater than permitted\n",
      "[16:20:22] Explicit valence for atom # 1 Si, 8, is greater than permitted\n",
      "[16:20:22] Explicit valence for atom # 1 Si, 8, is greater than permitted\n",
      "[16:20:22] Explicit valence for atom # 1 Si, 8, is greater than permitted\n",
      "[16:20:23] Explicit valence for atom # 1 Si, 8, is greater than permitted\n",
      "100%|███████████████████████████████████| 75377/75377 [00:54<00:00, 1386.89it/s]\n"
     ]
    }
   ],
   "source": [
    "train_fp = generate_macckey_fingerprints(train_df)"
   ]
  },
  {
   "cell_type": "code",
   "execution_count": 6,
   "id": "69294f79",
   "metadata": {},
   "outputs": [
    {
     "data": {
      "text/html": [
       "<div>\n",
       "<style scoped>\n",
       "    .dataframe tbody tr th:only-of-type {\n",
       "        vertical-align: middle;\n",
       "    }\n",
       "\n",
       "    .dataframe tbody tr th {\n",
       "        vertical-align: top;\n",
       "    }\n",
       "\n",
       "    .dataframe thead th {\n",
       "        text-align: right;\n",
       "    }\n",
       "</style>\n",
       "<table border=\"1\" class=\"dataframe\">\n",
       "  <thead>\n",
       "    <tr style=\"text-align: right;\">\n",
       "      <th></th>\n",
       "      <th>Assay Id</th>\n",
       "      <th>Expected</th>\n",
       "      <th>FP0</th>\n",
       "      <th>FP1</th>\n",
       "      <th>FP2</th>\n",
       "      <th>FP3</th>\n",
       "      <th>FP4</th>\n",
       "      <th>FP5</th>\n",
       "      <th>FP6</th>\n",
       "      <th>FP7</th>\n",
       "      <th>...</th>\n",
       "      <th>FP157</th>\n",
       "      <th>FP158</th>\n",
       "      <th>FP159</th>\n",
       "      <th>FP160</th>\n",
       "      <th>FP161</th>\n",
       "      <th>FP162</th>\n",
       "      <th>FP163</th>\n",
       "      <th>FP164</th>\n",
       "      <th>FP165</th>\n",
       "      <th>FP166</th>\n",
       "    </tr>\n",
       "  </thead>\n",
       "  <tbody>\n",
       "    <tr>\n",
       "      <th>0</th>\n",
       "      <td>1644</td>\n",
       "      <td>2</td>\n",
       "      <td>0</td>\n",
       "      <td>0</td>\n",
       "      <td>0</td>\n",
       "      <td>0</td>\n",
       "      <td>0</td>\n",
       "      <td>0</td>\n",
       "      <td>0</td>\n",
       "      <td>0</td>\n",
       "      <td>...</td>\n",
       "      <td>1</td>\n",
       "      <td>0</td>\n",
       "      <td>1</td>\n",
       "      <td>0</td>\n",
       "      <td>0</td>\n",
       "      <td>1</td>\n",
       "      <td>1</td>\n",
       "      <td>1</td>\n",
       "      <td>1</td>\n",
       "      <td>0</td>\n",
       "    </tr>\n",
       "    <tr>\n",
       "      <th>1</th>\n",
       "      <td>2451</td>\n",
       "      <td>2</td>\n",
       "      <td>0</td>\n",
       "      <td>0</td>\n",
       "      <td>0</td>\n",
       "      <td>0</td>\n",
       "      <td>0</td>\n",
       "      <td>0</td>\n",
       "      <td>0</td>\n",
       "      <td>0</td>\n",
       "      <td>...</td>\n",
       "      <td>0</td>\n",
       "      <td>0</td>\n",
       "      <td>0</td>\n",
       "      <td>1</td>\n",
       "      <td>0</td>\n",
       "      <td>0</td>\n",
       "      <td>0</td>\n",
       "      <td>1</td>\n",
       "      <td>0</td>\n",
       "      <td>0</td>\n",
       "    </tr>\n",
       "    <tr>\n",
       "      <th>2</th>\n",
       "      <td>1384</td>\n",
       "      <td>2</td>\n",
       "      <td>0</td>\n",
       "      <td>0</td>\n",
       "      <td>0</td>\n",
       "      <td>0</td>\n",
       "      <td>0</td>\n",
       "      <td>0</td>\n",
       "      <td>0</td>\n",
       "      <td>0</td>\n",
       "      <td>...</td>\n",
       "      <td>0</td>\n",
       "      <td>1</td>\n",
       "      <td>0</td>\n",
       "      <td>1</td>\n",
       "      <td>1</td>\n",
       "      <td>0</td>\n",
       "      <td>0</td>\n",
       "      <td>0</td>\n",
       "      <td>0</td>\n",
       "      <td>1</td>\n",
       "    </tr>\n",
       "    <tr>\n",
       "      <th>3</th>\n",
       "      <td>16</td>\n",
       "      <td>2</td>\n",
       "      <td>0</td>\n",
       "      <td>0</td>\n",
       "      <td>0</td>\n",
       "      <td>0</td>\n",
       "      <td>0</td>\n",
       "      <td>0</td>\n",
       "      <td>0</td>\n",
       "      <td>0</td>\n",
       "      <td>...</td>\n",
       "      <td>0</td>\n",
       "      <td>1</td>\n",
       "      <td>1</td>\n",
       "      <td>0</td>\n",
       "      <td>1</td>\n",
       "      <td>1</td>\n",
       "      <td>1</td>\n",
       "      <td>1</td>\n",
       "      <td>1</td>\n",
       "      <td>0</td>\n",
       "    </tr>\n",
       "    <tr>\n",
       "      <th>4</th>\n",
       "      <td>1856</td>\n",
       "      <td>2</td>\n",
       "      <td>0</td>\n",
       "      <td>0</td>\n",
       "      <td>0</td>\n",
       "      <td>0</td>\n",
       "      <td>0</td>\n",
       "      <td>0</td>\n",
       "      <td>0</td>\n",
       "      <td>0</td>\n",
       "      <td>...</td>\n",
       "      <td>0</td>\n",
       "      <td>0</td>\n",
       "      <td>0</td>\n",
       "      <td>0</td>\n",
       "      <td>0</td>\n",
       "      <td>0</td>\n",
       "      <td>0</td>\n",
       "      <td>0</td>\n",
       "      <td>0</td>\n",
       "      <td>1</td>\n",
       "    </tr>\n",
       "  </tbody>\n",
       "</table>\n",
       "<p>5 rows × 169 columns</p>\n",
       "</div>"
      ],
      "text/plain": [
       "  Assay Id  Expected  FP0  FP1  FP2  FP3  FP4  FP5  FP6  FP7  ...  FP157  \\\n",
       "0     1644         2    0    0    0    0    0    0    0    0  ...      1   \n",
       "1     2451         2    0    0    0    0    0    0    0    0  ...      0   \n",
       "2     1384         2    0    0    0    0    0    0    0    0  ...      0   \n",
       "3       16         2    0    0    0    0    0    0    0    0  ...      0   \n",
       "4     1856         2    0    0    0    0    0    0    0    0  ...      0   \n",
       "\n",
       "   FP158  FP159  FP160  FP161  FP162  FP163  FP164  FP165  FP166  \n",
       "0      0      1      0      0      1      1      1      1      0  \n",
       "1      0      0      1      0      0      0      1      0      0  \n",
       "2      1      0      1      1      0      0      0      0      1  \n",
       "3      1      1      0      1      1      1      1      1      0  \n",
       "4      0      0      0      0      0      0      0      0      1  \n",
       "\n",
       "[5 rows x 169 columns]"
      ]
     },
     "execution_count": 6,
     "metadata": {},
     "output_type": "execute_result"
    }
   ],
   "source": [
    "train_fp.head()"
   ]
  },
  {
   "cell_type": "code",
   "execution_count": 7,
   "id": "bfa13715",
   "metadata": {},
   "outputs": [],
   "source": [
    "train_fp['Assay Id'] = pd.to_numeric(train_fp['Assay Id'])\n",
    "train_fp.to_csv('train_macc_keys', index=False)"
   ]
  },
  {
   "cell_type": "code",
   "execution_count": 8,
   "id": "4410fa58",
   "metadata": {},
   "outputs": [
    {
     "name": "stderr",
     "output_type": "stream",
     "text": [
      "100%|███████████████████████████████████| 10994/10994 [00:07<00:00, 1391.34it/s]\n"
     ]
    }
   ],
   "source": [
    "test_fp = generate_macckey_fingerprints(test_df, is_train=False)"
   ]
  },
  {
   "cell_type": "code",
   "execution_count": 9,
   "id": "c96196d8",
   "metadata": {},
   "outputs": [
    {
     "data": {
      "text/html": [
       "<div>\n",
       "<style scoped>\n",
       "    .dataframe tbody tr th:only-of-type {\n",
       "        vertical-align: middle;\n",
       "    }\n",
       "\n",
       "    .dataframe tbody tr th {\n",
       "        vertical-align: top;\n",
       "    }\n",
       "\n",
       "    .dataframe thead th {\n",
       "        text-align: right;\n",
       "    }\n",
       "</style>\n",
       "<table border=\"1\" class=\"dataframe\">\n",
       "  <thead>\n",
       "    <tr style=\"text-align: right;\">\n",
       "      <th></th>\n",
       "      <th>Assay Id</th>\n",
       "      <th>FP0</th>\n",
       "      <th>FP1</th>\n",
       "      <th>FP2</th>\n",
       "      <th>FP3</th>\n",
       "      <th>FP4</th>\n",
       "      <th>FP5</th>\n",
       "      <th>FP6</th>\n",
       "      <th>FP7</th>\n",
       "      <th>FP8</th>\n",
       "      <th>...</th>\n",
       "      <th>FP157</th>\n",
       "      <th>FP158</th>\n",
       "      <th>FP159</th>\n",
       "      <th>FP160</th>\n",
       "      <th>FP161</th>\n",
       "      <th>FP162</th>\n",
       "      <th>FP163</th>\n",
       "      <th>FP164</th>\n",
       "      <th>FP165</th>\n",
       "      <th>FP166</th>\n",
       "    </tr>\n",
       "  </thead>\n",
       "  <tbody>\n",
       "    <tr>\n",
       "      <th>0</th>\n",
       "      <td>1682</td>\n",
       "      <td>0</td>\n",
       "      <td>0</td>\n",
       "      <td>0</td>\n",
       "      <td>0</td>\n",
       "      <td>0</td>\n",
       "      <td>0</td>\n",
       "      <td>0</td>\n",
       "      <td>0</td>\n",
       "      <td>0</td>\n",
       "      <td>...</td>\n",
       "      <td>1</td>\n",
       "      <td>0</td>\n",
       "      <td>0</td>\n",
       "      <td>1</td>\n",
       "      <td>0</td>\n",
       "      <td>1</td>\n",
       "      <td>1</td>\n",
       "      <td>1</td>\n",
       "      <td>1</td>\n",
       "      <td>0</td>\n",
       "    </tr>\n",
       "    <tr>\n",
       "      <th>1</th>\n",
       "      <td>1656</td>\n",
       "      <td>0</td>\n",
       "      <td>0</td>\n",
       "      <td>0</td>\n",
       "      <td>0</td>\n",
       "      <td>0</td>\n",
       "      <td>0</td>\n",
       "      <td>0</td>\n",
       "      <td>0</td>\n",
       "      <td>0</td>\n",
       "      <td>...</td>\n",
       "      <td>1</td>\n",
       "      <td>1</td>\n",
       "      <td>1</td>\n",
       "      <td>1</td>\n",
       "      <td>1</td>\n",
       "      <td>1</td>\n",
       "      <td>1</td>\n",
       "      <td>1</td>\n",
       "      <td>1</td>\n",
       "      <td>0</td>\n",
       "    </tr>\n",
       "    <tr>\n",
       "      <th>2</th>\n",
       "      <td>36</td>\n",
       "      <td>0</td>\n",
       "      <td>0</td>\n",
       "      <td>0</td>\n",
       "      <td>0</td>\n",
       "      <td>0</td>\n",
       "      <td>0</td>\n",
       "      <td>0</td>\n",
       "      <td>0</td>\n",
       "      <td>0</td>\n",
       "      <td>...</td>\n",
       "      <td>0</td>\n",
       "      <td>1</td>\n",
       "      <td>1</td>\n",
       "      <td>1</td>\n",
       "      <td>1</td>\n",
       "      <td>1</td>\n",
       "      <td>1</td>\n",
       "      <td>1</td>\n",
       "      <td>1</td>\n",
       "      <td>0</td>\n",
       "    </tr>\n",
       "    <tr>\n",
       "      <th>3</th>\n",
       "      <td>1850</td>\n",
       "      <td>0</td>\n",
       "      <td>0</td>\n",
       "      <td>0</td>\n",
       "      <td>0</td>\n",
       "      <td>0</td>\n",
       "      <td>0</td>\n",
       "      <td>0</td>\n",
       "      <td>0</td>\n",
       "      <td>0</td>\n",
       "      <td>...</td>\n",
       "      <td>1</td>\n",
       "      <td>1</td>\n",
       "      <td>1</td>\n",
       "      <td>1</td>\n",
       "      <td>1</td>\n",
       "      <td>0</td>\n",
       "      <td>1</td>\n",
       "      <td>1</td>\n",
       "      <td>1</td>\n",
       "      <td>1</td>\n",
       "    </tr>\n",
       "    <tr>\n",
       "      <th>4</th>\n",
       "      <td>30</td>\n",
       "      <td>0</td>\n",
       "      <td>0</td>\n",
       "      <td>0</td>\n",
       "      <td>0</td>\n",
       "      <td>0</td>\n",
       "      <td>0</td>\n",
       "      <td>0</td>\n",
       "      <td>0</td>\n",
       "      <td>0</td>\n",
       "      <td>...</td>\n",
       "      <td>1</td>\n",
       "      <td>0</td>\n",
       "      <td>1</td>\n",
       "      <td>1</td>\n",
       "      <td>0</td>\n",
       "      <td>0</td>\n",
       "      <td>1</td>\n",
       "      <td>1</td>\n",
       "      <td>1</td>\n",
       "      <td>0</td>\n",
       "    </tr>\n",
       "  </tbody>\n",
       "</table>\n",
       "<p>5 rows × 168 columns</p>\n",
       "</div>"
      ],
      "text/plain": [
       "  Assay Id  FP0  FP1  FP2  FP3  FP4  FP5  FP6  FP7  FP8  ...  FP157  FP158  \\\n",
       "0     1682    0    0    0    0    0    0    0    0    0  ...      1      0   \n",
       "1     1656    0    0    0    0    0    0    0    0    0  ...      1      1   \n",
       "2       36    0    0    0    0    0    0    0    0    0  ...      0      1   \n",
       "3     1850    0    0    0    0    0    0    0    0    0  ...      1      1   \n",
       "4       30    0    0    0    0    0    0    0    0    0  ...      1      0   \n",
       "\n",
       "   FP159  FP160  FP161  FP162  FP163  FP164  FP165  FP166  \n",
       "0      0      1      0      1      1      1      1      0  \n",
       "1      1      1      1      1      1      1      1      0  \n",
       "2      1      1      1      1      1      1      1      0  \n",
       "3      1      1      1      0      1      1      1      1  \n",
       "4      1      1      0      0      1      1      1      0  \n",
       "\n",
       "[5 rows x 168 columns]"
      ]
     },
     "execution_count": 9,
     "metadata": {},
     "output_type": "execute_result"
    }
   ],
   "source": [
    "test_fp.head()"
   ]
  },
  {
   "cell_type": "code",
   "execution_count": 10,
   "id": "93e36890",
   "metadata": {},
   "outputs": [],
   "source": [
    "test_fp['Assay Id'] = pd.to_numeric(test_fp['Assay Id'])\n",
    "test_fp.to_csv('test_macc_keys', index=False)"
   ]
  },
  {
   "cell_type": "code",
   "execution_count": 11,
   "id": "3a6d95ec",
   "metadata": {},
   "outputs": [],
   "source": [
    "train_y = train_fp.loc[:, 'Expected']\n",
    "train_X = train_fp.drop(['Expected'], axis=1)"
   ]
  },
  {
   "cell_type": "code",
   "execution_count": 12,
   "id": "dd16e348",
   "metadata": {},
   "outputs": [],
   "source": [
    "skf = StratifiedKFold(random_state=10, n_splits=5, shuffle=True)"
   ]
  },
  {
   "cell_type": "code",
   "execution_count": 27,
   "id": "7fe70ee5",
   "metadata": {},
   "outputs": [
    {
     "name": "stdout",
     "output_type": "stream",
     "text": [
      "0.9474935932738584\n"
     ]
    }
   ],
   "source": [
    "xgb = XGBClassifier(tree_method='hist', max_bin=256, n_estimators=650, learning_rate=0.1, objective='binary:logistic', max_depth=8, subsample=0.9)\n",
    "lab = LabelEncoder()\n",
    "y_data = lab.fit_transform(y_train)\n",
    "scores = cross_validate(estimator=xgb, X=X_train, y=y_data,cv=skf, scoring='f1', n_jobs=4)\n",
    "print(np.mean(scores['test_score']))"
   ]
  },
  {
   "cell_type": "code",
   "execution_count": 13,
   "id": "661d711a",
   "metadata": {},
   "outputs": [],
   "source": [
    "submission_path = Path().cwd().joinpath('content/submissions/')"
   ]
  },
  {
   "cell_type": "code",
   "execution_count": 30,
   "id": "a672a311",
   "metadata": {},
   "outputs": [
    {
     "name": "stdout",
     "output_type": "stream",
     "text": [
      "[1 1 1 ... 1 1 1]\n",
      "[2 2 2 ... 2 2 2]\n"
     ]
    }
   ],
   "source": [
    "model = xgb.fit(X_train, y_data)\n",
    "pred_vals = model.predict(test_fp)\n",
    "print(pred_vals)\n",
    "new_pred = lab.inverse_transform(pred_vals)\n",
    "print(new_pred)\n",
    "final_df = pd.read_csv(base_path.joinpath('test_II.csv'))\n",
    "final_df['Predicted'] = new_pred\n",
    "final_df.columns = ['Id', 'Predicted']\n",
    "final_df.to_csv(submission_path.joinpath('submission24.csv'), index=False)"
   ]
  },
  {
   "cell_type": "code",
   "execution_count": 33,
   "id": "eca2acec",
   "metadata": {},
   "outputs": [
    {
     "name": "stdout",
     "output_type": "stream",
     "text": [
      "0.9458057289065025\n"
     ]
    }
   ],
   "source": [
    "xgb2 = XGBClassifier(tree_method='hist', max_bin=256, n_estimators=650, learning_rate=0.2, objective='binary:logistic', max_depth=9, gamma=0.01)\n",
    "lab = LabelEncoder()\n",
    "y_data = lab.fit_transform(y_train)\n",
    "scores = cross_validate(estimator=xgb2, X=X_train, y=y_data,cv=skf, scoring='f1', n_jobs=4)\n",
    "print(np.mean(scores['test_score']))"
   ]
  },
  {
   "cell_type": "code",
   "execution_count": 34,
   "id": "de47557a",
   "metadata": {},
   "outputs": [
    {
     "name": "stdout",
     "output_type": "stream",
     "text": [
      "[1 1 1 ... 1 0 1]\n",
      "[2 2 2 ... 2 1 2]\n"
     ]
    }
   ],
   "source": [
    "model = xgb2.fit(X_train, y_data)\n",
    "pred_vals = model.predict(test_fp)\n",
    "print(pred_vals)\n",
    "new_pred = lab.inverse_transform(pred_vals)\n",
    "print(new_pred)\n",
    "final_df = pd.read_csv(base_path.joinpath('test_II.csv'))\n",
    "final_df['Predicted'] = new_pred\n",
    "final_df.columns = ['Id', 'Predicted']\n",
    "final_df.to_csv(submission_path.joinpath('submission25.csv'), index=False)"
   ]
  },
  {
   "cell_type": "code",
   "execution_count": 35,
   "id": "1d79f237",
   "metadata": {},
   "outputs": [
    {
     "name": "stdout",
     "output_type": "stream",
     "text": [
      "0.9457993503455786\n"
     ]
    }
   ],
   "source": [
    "xgb3 = XGBClassifier(tree_method='hist', max_bin=256, n_estimators=850, learning_rate=0.2, objective='binary:logistic', max_depth=9, gamma=0.01)\n",
    "lab = LabelEncoder()\n",
    "y_data = lab.fit_transform(y_train)\n",
    "scores = cross_validate(estimator=xgb3, X=X_train, y=y_data,cv=skf, scoring='f1', n_jobs=4)\n",
    "print(np.mean(scores['test_score']))"
   ]
  },
  {
   "cell_type": "code",
   "execution_count": 37,
   "id": "1e10d168",
   "metadata": {},
   "outputs": [
    {
     "name": "stdout",
     "output_type": "stream",
     "text": [
      "[1 1 1 ... 1 0 1]\n",
      "[2 2 2 ... 2 1 2]\n"
     ]
    }
   ],
   "source": [
    "model = xgb3.fit(X_train, y_data)\n",
    "pred_vals = model.predict(test_fp)\n",
    "print(pred_vals)\n",
    "new_pred = lab.inverse_transform(pred_vals)\n",
    "print(new_pred)\n",
    "final_df = pd.read_csv(base_path.joinpath('test_II.csv'))\n",
    "final_df['Predicted'] = new_pred\n",
    "final_df.columns = ['Id', 'Predicted']\n",
    "final_df.to_csv(submission_path.joinpath('submission26.csv'), index=False)"
   ]
  },
  {
   "cell_type": "code",
   "execution_count": 38,
   "id": "0421f313",
   "metadata": {},
   "outputs": [
    {
     "name": "stdout",
     "output_type": "stream",
     "text": [
      "0.9465642785956575\n"
     ]
    }
   ],
   "source": [
    "xgb4 = XGBClassifier(tree_method='hist', max_bin=256, n_estimators=450, learning_rate=0.2, objective='binary:logistic', max_depth=8, gamma=0.01)\n",
    "lab = LabelEncoder()\n",
    "y_data = lab.fit_transform(y_train)\n",
    "scores = cross_validate(estimator=xgb4, X=X_train, y=y_data,cv=skf, scoring='f1', n_jobs=4)\n",
    "print(np.mean(scores['test_score']))"
   ]
  },
  {
   "cell_type": "code",
   "execution_count": 39,
   "id": "cfe7bc5d",
   "metadata": {},
   "outputs": [
    {
     "name": "stdout",
     "output_type": "stream",
     "text": [
      "[1 1 1 ... 1 1 0]\n",
      "[2 2 2 ... 2 2 1]\n"
     ]
    }
   ],
   "source": [
    "model = xgb4.fit(X_train, y_data)\n",
    "pred_vals = model.predict(test_fp)\n",
    "print(pred_vals)\n",
    "new_pred = lab.inverse_transform(pred_vals)\n",
    "print(new_pred)\n",
    "final_df = pd.read_csv(base_path.joinpath('test_II.csv'))\n",
    "final_df['Predicted'] = new_pred\n",
    "final_df.columns = ['Id', 'Predicted']\n",
    "final_df.to_csv(submission_path.joinpath('submission27.csv'), index=False)"
   ]
  },
  {
   "cell_type": "code",
   "execution_count": 14,
   "id": "0de4c9cf",
   "metadata": {},
   "outputs": [],
   "source": [
    "space = {\n",
    "    'n_estimators': hp.randint('n_estimators', 100, 1000),\n",
    "    'learning_rate': hp.uniform('learning_rate', 0.01, 0.3),\n",
    "    'max_depth': hp.randint('max_depth', 3, 18),\n",
    "    'subsample': hp.uniform('subsample', 0.5, 1),\n",
    "    'colsample_bytree': hp.uniform('colsample_bytree', 0.5, 1)\n",
    "}"
   ]
  },
  {
   "cell_type": "code",
   "execution_count": 15,
   "id": "e2b8d29f",
   "metadata": {},
   "outputs": [],
   "source": [
    "lab = LabelEncoder()\n",
    "train_yT = lab.fit_transform(train_y)\n",
    "X_train, X_val, y_train, y_val = train_test_split(train_X, train_yT, test_size=0.25, random_state=10, stratify=train_yT)"
   ]
  },
  {
   "cell_type": "code",
   "execution_count": 20,
   "id": "ce85065a",
   "metadata": {},
   "outputs": [],
   "source": [
    "def objective(space):\n",
    "    xgb_cl = XGBClassifier(**space, eval_metric=\"error\",\n",
    "                           early_stopping_rounds=10,\n",
    "                            objective='binary:logistic', n_jobs=4, tree_method='hist')\n",
    "    \n",
    "    fit_params={'verbose': False, 'eval_set': [[X_val, y_val]]}\n",
    "    \n",
    "    score = cross_val_score(estimator=xgb_cl, X=X_train, y=y_train, cv=skf, fit_params=fit_params, scoring='f1').mean()\n",
    "\n",
    "    return {'loss': -score, 'status':STATUS_OK}\n",
    "    "
   ]
  },
  {
   "cell_type": "code",
   "execution_count": 21,
   "id": "46e65431",
   "metadata": {},
   "outputs": [
    {
     "name": "stdout",
     "output_type": "stream",
     "text": [
      "100%|██████| 100/100 [12:16<00:00,  7.36s/trial, best loss: -0.9445503235639684]\n"
     ]
    }
   ],
   "source": [
    "trials = Trials()\n",
    "best_params = fmin(fn=objective, space=space, algo=tpe.suggest, max_evals=100, trials=trials)"
   ]
  },
  {
   "cell_type": "code",
   "execution_count": 22,
   "id": "413d20d9",
   "metadata": {},
   "outputs": [
    {
     "data": {
      "text/plain": [
       "{'colsample_bytree': 0.6579661398347049,\n",
       " 'learning_rate': 0.17392073226596919,\n",
       " 'max_depth': 12,\n",
       " 'n_estimators': 258,\n",
       " 'subsample': 0.9841888805154393}"
      ]
     },
     "execution_count": 22,
     "metadata": {},
     "output_type": "execute_result"
    }
   ],
   "source": [
    "best_params"
   ]
  },
  {
   "cell_type": "code",
   "execution_count": 23,
   "id": "da705734",
   "metadata": {},
   "outputs": [
    {
     "data": {
      "text/plain": [
       "{'colsample_bytree': 0.6579661398347049,\n",
       " 'learning_rate': 0.17392073226596919,\n",
       " 'max_depth': 12,\n",
       " 'n_estimators': 258,\n",
       " 'subsample': 0.9841888805154393}"
      ]
     },
     "execution_count": 23,
     "metadata": {},
     "output_type": "execute_result"
    }
   ],
   "source": [
    "space_eval(space, best_params)"
   ]
  },
  {
   "cell_type": "code",
   "execution_count": 31,
   "id": "64a46fea",
   "metadata": {},
   "outputs": [
    {
     "data": {
      "text/html": [
       "<style>#sk-container-id-4 {color: black;background-color: white;}#sk-container-id-4 pre{padding: 0;}#sk-container-id-4 div.sk-toggleable {background-color: white;}#sk-container-id-4 label.sk-toggleable__label {cursor: pointer;display: block;width: 100%;margin-bottom: 0;padding: 0.3em;box-sizing: border-box;text-align: center;}#sk-container-id-4 label.sk-toggleable__label-arrow:before {content: \"▸\";float: left;margin-right: 0.25em;color: #696969;}#sk-container-id-4 label.sk-toggleable__label-arrow:hover:before {color: black;}#sk-container-id-4 div.sk-estimator:hover label.sk-toggleable__label-arrow:before {color: black;}#sk-container-id-4 div.sk-toggleable__content {max-height: 0;max-width: 0;overflow: hidden;text-align: left;background-color: #f0f8ff;}#sk-container-id-4 div.sk-toggleable__content pre {margin: 0.2em;color: black;border-radius: 0.25em;background-color: #f0f8ff;}#sk-container-id-4 input.sk-toggleable__control:checked~div.sk-toggleable__content {max-height: 200px;max-width: 100%;overflow: auto;}#sk-container-id-4 input.sk-toggleable__control:checked~label.sk-toggleable__label-arrow:before {content: \"▾\";}#sk-container-id-4 div.sk-estimator input.sk-toggleable__control:checked~label.sk-toggleable__label {background-color: #d4ebff;}#sk-container-id-4 div.sk-label input.sk-toggleable__control:checked~label.sk-toggleable__label {background-color: #d4ebff;}#sk-container-id-4 input.sk-hidden--visually {border: 0;clip: rect(1px 1px 1px 1px);clip: rect(1px, 1px, 1px, 1px);height: 1px;margin: -1px;overflow: hidden;padding: 0;position: absolute;width: 1px;}#sk-container-id-4 div.sk-estimator {font-family: monospace;background-color: #f0f8ff;border: 1px dotted black;border-radius: 0.25em;box-sizing: border-box;margin-bottom: 0.5em;}#sk-container-id-4 div.sk-estimator:hover {background-color: #d4ebff;}#sk-container-id-4 div.sk-parallel-item::after {content: \"\";width: 100%;border-bottom: 1px solid gray;flex-grow: 1;}#sk-container-id-4 div.sk-label:hover label.sk-toggleable__label {background-color: #d4ebff;}#sk-container-id-4 div.sk-serial::before {content: \"\";position: absolute;border-left: 1px solid gray;box-sizing: border-box;top: 0;bottom: 0;left: 50%;z-index: 0;}#sk-container-id-4 div.sk-serial {display: flex;flex-direction: column;align-items: center;background-color: white;padding-right: 0.2em;padding-left: 0.2em;position: relative;}#sk-container-id-4 div.sk-item {position: relative;z-index: 1;}#sk-container-id-4 div.sk-parallel {display: flex;align-items: stretch;justify-content: center;background-color: white;position: relative;}#sk-container-id-4 div.sk-item::before, #sk-container-id-4 div.sk-parallel-item::before {content: \"\";position: absolute;border-left: 1px solid gray;box-sizing: border-box;top: 0;bottom: 0;left: 50%;z-index: -1;}#sk-container-id-4 div.sk-parallel-item {display: flex;flex-direction: column;z-index: 1;position: relative;background-color: white;}#sk-container-id-4 div.sk-parallel-item:first-child::after {align-self: flex-end;width: 50%;}#sk-container-id-4 div.sk-parallel-item:last-child::after {align-self: flex-start;width: 50%;}#sk-container-id-4 div.sk-parallel-item:only-child::after {width: 0;}#sk-container-id-4 div.sk-dashed-wrapped {border: 1px dashed gray;margin: 0 0.4em 0.5em 0.4em;box-sizing: border-box;padding-bottom: 0.4em;background-color: white;}#sk-container-id-4 div.sk-label label {font-family: monospace;font-weight: bold;display: inline-block;line-height: 1.2em;}#sk-container-id-4 div.sk-label-container {text-align: center;}#sk-container-id-4 div.sk-container {/* jupyter's `normalize.less` sets `[hidden] { display: none; }` but bootstrap.min.css set `[hidden] { display: none !important; }` so we also need the `!important` here to be able to override the default hidden behavior on the sphinx rendered scikit-learn.org. See: https://github.com/scikit-learn/scikit-learn/issues/21755 */display: inline-block !important;position: relative;}#sk-container-id-4 div.sk-text-repr-fallback {display: none;}</style><div id=\"sk-container-id-4\" class=\"sk-top-container\"><div class=\"sk-text-repr-fallback\"><pre>XGBClassifier(base_score=None, booster=&#x27;gbtree&#x27;, callbacks=None,\n",
       "              colsample_bylevel=None, colsample_bynode=None,\n",
       "              colsample_bytree=0.6579661398347049, early_stopping_rounds=None,\n",
       "              enable_categorical=False, eval_metric=None, feature_types=None,\n",
       "              gamma=None, gpu_id=None, grow_policy=None, importance_type=None,\n",
       "              interaction_constraints=None, learning_rate=0.17392073226596919,\n",
       "              max_bin=None, max_cat_threshold=None, max_cat_to_onehot=None,\n",
       "              max_delta_step=None, max_depth=12, max_leaves=None,\n",
       "              min_child_weight=None, missing=nan, monotone_constraints=None,\n",
       "              n_estimators=258, n_jobs=4, num_parallel_tree=None,\n",
       "              predictor=None, random_state=None, ...)</pre><b>In a Jupyter environment, please rerun this cell to show the HTML representation or trust the notebook. <br />On GitHub, the HTML representation is unable to render, please try loading this page with nbviewer.org.</b></div><div class=\"sk-container\" hidden><div class=\"sk-item\"><div class=\"sk-estimator sk-toggleable\"><input class=\"sk-toggleable__control sk-hidden--visually\" id=\"sk-estimator-id-4\" type=\"checkbox\" checked><label for=\"sk-estimator-id-4\" class=\"sk-toggleable__label sk-toggleable__label-arrow\">XGBClassifier</label><div class=\"sk-toggleable__content\"><pre>XGBClassifier(base_score=None, booster=&#x27;gbtree&#x27;, callbacks=None,\n",
       "              colsample_bylevel=None, colsample_bynode=None,\n",
       "              colsample_bytree=0.6579661398347049, early_stopping_rounds=None,\n",
       "              enable_categorical=False, eval_metric=None, feature_types=None,\n",
       "              gamma=None, gpu_id=None, grow_policy=None, importance_type=None,\n",
       "              interaction_constraints=None, learning_rate=0.17392073226596919,\n",
       "              max_bin=None, max_cat_threshold=None, max_cat_to_onehot=None,\n",
       "              max_delta_step=None, max_depth=12, max_leaves=None,\n",
       "              min_child_weight=None, missing=nan, monotone_constraints=None,\n",
       "              n_estimators=258, n_jobs=4, num_parallel_tree=None,\n",
       "              predictor=None, random_state=None, ...)</pre></div></div></div></div></div>"
      ],
      "text/plain": [
       "XGBClassifier(base_score=None, booster='gbtree', callbacks=None,\n",
       "              colsample_bylevel=None, colsample_bynode=None,\n",
       "              colsample_bytree=0.6579661398347049, early_stopping_rounds=None,\n",
       "              enable_categorical=False, eval_metric=None, feature_types=None,\n",
       "              gamma=None, gpu_id=None, grow_policy=None, importance_type=None,\n",
       "              interaction_constraints=None, learning_rate=0.17392073226596919,\n",
       "              max_bin=None, max_cat_threshold=None, max_cat_to_onehot=None,\n",
       "              max_delta_step=None, max_depth=12, max_leaves=None,\n",
       "              min_child_weight=None, missing=nan, monotone_constraints=None,\n",
       "              n_estimators=258, n_jobs=4, num_parallel_tree=None,\n",
       "              predictor=None, random_state=None, ...)"
      ]
     },
     "execution_count": 31,
     "metadata": {},
     "output_type": "execute_result"
    }
   ],
   "source": [
    "eval_set = [(X_val, y_val)]\n",
    "classifier = XGBClassifier(**best_params, booster=\"gbtree\", n_jobs=4, tree_method='hist')\n",
    "classifier.fit(X=train_X, y=train_yT)"
   ]
  },
  {
   "cell_type": "code",
   "execution_count": 26,
   "id": "47dbca07",
   "metadata": {},
   "outputs": [
    {
     "data": {
      "text/plain": [
       "70"
      ]
     },
     "execution_count": 26,
     "metadata": {},
     "output_type": "execute_result"
    }
   ],
   "source": [
    "classifier.best_iteration"
   ]
  },
  {
   "cell_type": "code",
   "execution_count": 28,
   "id": "b3021c03",
   "metadata": {},
   "outputs": [
    {
     "data": {
      "text/plain": [
       "0.9460575908337102"
      ]
     },
     "execution_count": 28,
     "metadata": {},
     "output_type": "execute_result"
    }
   ],
   "source": [
    "f1_score(y_val, classifier.predict(X_val))"
   ]
  },
  {
   "cell_type": "code",
   "execution_count": 32,
   "id": "3d5ea2ed",
   "metadata": {},
   "outputs": [
    {
     "name": "stdout",
     "output_type": "stream",
     "text": [
      "[1 1 1 ... 1 1 0]\n",
      "[2 2 2 ... 2 2 1]\n"
     ]
    }
   ],
   "source": [
    "pred_vals = classifier.predict(test_fp)\n",
    "print(pred_vals)\n",
    "new_pred = lab.inverse_transform(pred_vals)\n",
    "print(new_pred)\n",
    "final_df = pd.read_csv(base_path.joinpath('test_II.csv'))\n",
    "final_df['Predicted'] = new_pred\n",
    "final_df.columns = ['Id', 'Predicted']\n",
    "final_df.to_csv(submission_path.joinpath('submission28.csv'), index=False)"
   ]
  },
  {
   "cell_type": "code",
   "execution_count": 33,
   "id": "a96b63e4",
   "metadata": {},
   "outputs": [
    {
     "name": "stdout",
     "output_type": "stream",
     "text": [
      "[0]\tvalidation_0-error:0.12306\n",
      "[1]\tvalidation_0-error:0.11679\n",
      "[2]\tvalidation_0-error:0.11754\n",
      "[3]\tvalidation_0-error:0.11441\n",
      "[4]\tvalidation_0-error:0.11244\n",
      "[5]\tvalidation_0-error:0.11350\n",
      "[6]\tvalidation_0-error:0.11181\n",
      "[7]\tvalidation_0-error:0.10921\n",
      "[8]\tvalidation_0-error:0.11043\n",
      "[9]\tvalidation_0-error:0.10915\n",
      "[10]\tvalidation_0-error:0.10740\n",
      "[11]\tvalidation_0-error:0.10687\n",
      "[12]\tvalidation_0-error:0.10586\n",
      "[13]\tvalidation_0-error:0.10496\n",
      "[14]\tvalidation_0-error:0.10517\n",
      "[15]\tvalidation_0-error:0.10486\n",
      "[16]\tvalidation_0-error:0.10432\n",
      "[17]\tvalidation_0-error:0.10390\n",
      "[18]\tvalidation_0-error:0.10358\n",
      "[19]\tvalidation_0-error:0.10257\n",
      "[20]\tvalidation_0-error:0.10252\n",
      "[21]\tvalidation_0-error:0.10199\n",
      "[22]\tvalidation_0-error:0.10231\n",
      "[23]\tvalidation_0-error:0.10183\n",
      "[24]\tvalidation_0-error:0.10167\n",
      "[25]\tvalidation_0-error:0.10119\n",
      "[26]\tvalidation_0-error:0.10125\n",
      "[27]\tvalidation_0-error:0.10125\n",
      "[28]\tvalidation_0-error:0.10098\n",
      "[29]\tvalidation_0-error:0.10098\n",
      "[30]\tvalidation_0-error:0.10072\n",
      "[31]\tvalidation_0-error:0.10003\n",
      "[32]\tvalidation_0-error:0.10003\n",
      "[33]\tvalidation_0-error:0.09981\n",
      "[34]\tvalidation_0-error:0.09944\n",
      "[35]\tvalidation_0-error:0.09976\n",
      "[36]\tvalidation_0-error:0.09923\n",
      "[37]\tvalidation_0-error:0.09859\n",
      "[38]\tvalidation_0-error:0.09865\n",
      "[39]\tvalidation_0-error:0.09838\n",
      "[40]\tvalidation_0-error:0.09822\n",
      "[41]\tvalidation_0-error:0.09785\n",
      "[42]\tvalidation_0-error:0.09759\n",
      "[43]\tvalidation_0-error:0.09769\n",
      "[44]\tvalidation_0-error:0.09822\n",
      "[45]\tvalidation_0-error:0.09796\n",
      "[46]\tvalidation_0-error:0.09790\n",
      "[47]\tvalidation_0-error:0.09817\n",
      "[48]\tvalidation_0-error:0.09785\n",
      "[49]\tvalidation_0-error:0.09721\n",
      "[50]\tvalidation_0-error:0.09743\n",
      "[51]\tvalidation_0-error:0.09732\n",
      "[52]\tvalidation_0-error:0.09737\n",
      "[53]\tvalidation_0-error:0.09737\n",
      "[54]\tvalidation_0-error:0.09759\n",
      "[55]\tvalidation_0-error:0.09721\n",
      "[56]\tvalidation_0-error:0.09716\n",
      "[57]\tvalidation_0-error:0.09721\n",
      "[58]\tvalidation_0-error:0.09700\n",
      "[59]\tvalidation_0-error:0.09727\n",
      "[60]\tvalidation_0-error:0.09695\n",
      "[61]\tvalidation_0-error:0.09684\n",
      "[62]\tvalidation_0-error:0.09700\n",
      "[63]\tvalidation_0-error:0.09647\n",
      "[64]\tvalidation_0-error:0.09637\n",
      "[65]\tvalidation_0-error:0.09578\n",
      "[66]\tvalidation_0-error:0.09594\n",
      "[67]\tvalidation_0-error:0.09589\n",
      "[68]\tvalidation_0-error:0.09631\n",
      "[69]\tvalidation_0-error:0.09626\n",
      "[70]\tvalidation_0-error:0.09642\n",
      "[71]\tvalidation_0-error:0.09637\n",
      "[72]\tvalidation_0-error:0.09589\n",
      "[73]\tvalidation_0-error:0.09631\n",
      "[74]\tvalidation_0-error:0.09626\n",
      "[75]\tvalidation_0-error:0.09647\n"
     ]
    },
    {
     "data": {
      "text/html": [
       "<style>#sk-container-id-5 {color: black;background-color: white;}#sk-container-id-5 pre{padding: 0;}#sk-container-id-5 div.sk-toggleable {background-color: white;}#sk-container-id-5 label.sk-toggleable__label {cursor: pointer;display: block;width: 100%;margin-bottom: 0;padding: 0.3em;box-sizing: border-box;text-align: center;}#sk-container-id-5 label.sk-toggleable__label-arrow:before {content: \"▸\";float: left;margin-right: 0.25em;color: #696969;}#sk-container-id-5 label.sk-toggleable__label-arrow:hover:before {color: black;}#sk-container-id-5 div.sk-estimator:hover label.sk-toggleable__label-arrow:before {color: black;}#sk-container-id-5 div.sk-toggleable__content {max-height: 0;max-width: 0;overflow: hidden;text-align: left;background-color: #f0f8ff;}#sk-container-id-5 div.sk-toggleable__content pre {margin: 0.2em;color: black;border-radius: 0.25em;background-color: #f0f8ff;}#sk-container-id-5 input.sk-toggleable__control:checked~div.sk-toggleable__content {max-height: 200px;max-width: 100%;overflow: auto;}#sk-container-id-5 input.sk-toggleable__control:checked~label.sk-toggleable__label-arrow:before {content: \"▾\";}#sk-container-id-5 div.sk-estimator input.sk-toggleable__control:checked~label.sk-toggleable__label {background-color: #d4ebff;}#sk-container-id-5 div.sk-label input.sk-toggleable__control:checked~label.sk-toggleable__label {background-color: #d4ebff;}#sk-container-id-5 input.sk-hidden--visually {border: 0;clip: rect(1px 1px 1px 1px);clip: rect(1px, 1px, 1px, 1px);height: 1px;margin: -1px;overflow: hidden;padding: 0;position: absolute;width: 1px;}#sk-container-id-5 div.sk-estimator {font-family: monospace;background-color: #f0f8ff;border: 1px dotted black;border-radius: 0.25em;box-sizing: border-box;margin-bottom: 0.5em;}#sk-container-id-5 div.sk-estimator:hover {background-color: #d4ebff;}#sk-container-id-5 div.sk-parallel-item::after {content: \"\";width: 100%;border-bottom: 1px solid gray;flex-grow: 1;}#sk-container-id-5 div.sk-label:hover label.sk-toggleable__label {background-color: #d4ebff;}#sk-container-id-5 div.sk-serial::before {content: \"\";position: absolute;border-left: 1px solid gray;box-sizing: border-box;top: 0;bottom: 0;left: 50%;z-index: 0;}#sk-container-id-5 div.sk-serial {display: flex;flex-direction: column;align-items: center;background-color: white;padding-right: 0.2em;padding-left: 0.2em;position: relative;}#sk-container-id-5 div.sk-item {position: relative;z-index: 1;}#sk-container-id-5 div.sk-parallel {display: flex;align-items: stretch;justify-content: center;background-color: white;position: relative;}#sk-container-id-5 div.sk-item::before, #sk-container-id-5 div.sk-parallel-item::before {content: \"\";position: absolute;border-left: 1px solid gray;box-sizing: border-box;top: 0;bottom: 0;left: 50%;z-index: -1;}#sk-container-id-5 div.sk-parallel-item {display: flex;flex-direction: column;z-index: 1;position: relative;background-color: white;}#sk-container-id-5 div.sk-parallel-item:first-child::after {align-self: flex-end;width: 50%;}#sk-container-id-5 div.sk-parallel-item:last-child::after {align-self: flex-start;width: 50%;}#sk-container-id-5 div.sk-parallel-item:only-child::after {width: 0;}#sk-container-id-5 div.sk-dashed-wrapped {border: 1px dashed gray;margin: 0 0.4em 0.5em 0.4em;box-sizing: border-box;padding-bottom: 0.4em;background-color: white;}#sk-container-id-5 div.sk-label label {font-family: monospace;font-weight: bold;display: inline-block;line-height: 1.2em;}#sk-container-id-5 div.sk-label-container {text-align: center;}#sk-container-id-5 div.sk-container {/* jupyter's `normalize.less` sets `[hidden] { display: none; }` but bootstrap.min.css set `[hidden] { display: none !important; }` so we also need the `!important` here to be able to override the default hidden behavior on the sphinx rendered scikit-learn.org. See: https://github.com/scikit-learn/scikit-learn/issues/21755 */display: inline-block !important;position: relative;}#sk-container-id-5 div.sk-text-repr-fallback {display: none;}</style><div id=\"sk-container-id-5\" class=\"sk-top-container\"><div class=\"sk-text-repr-fallback\"><pre>XGBClassifier(base_score=None, booster=&#x27;gbtree&#x27;, callbacks=None,\n",
       "              colsample_bylevel=None, colsample_bynode=None,\n",
       "              colsample_bytree=0.6579661398347049, early_stopping_rounds=10,\n",
       "              enable_categorical=False, eval_metric=&#x27;error&#x27;, feature_types=None,\n",
       "              gamma=None, gpu_id=None, grow_policy=None, importance_type=None,\n",
       "              interaction_constraints=None, learning_rate=0.17392073226596919,\n",
       "              max_bin=None, max_cat_threshold=None, max_cat_to_onehot=None,\n",
       "              max_delta_step=None, max_depth=12, max_leaves=None,\n",
       "              min_child_weight=None, missing=nan, monotone_constraints=None,\n",
       "              n_estimators=258, n_jobs=4, num_parallel_tree=None,\n",
       "              predictor=None, random_state=None, ...)</pre><b>In a Jupyter environment, please rerun this cell to show the HTML representation or trust the notebook. <br />On GitHub, the HTML representation is unable to render, please try loading this page with nbviewer.org.</b></div><div class=\"sk-container\" hidden><div class=\"sk-item\"><div class=\"sk-estimator sk-toggleable\"><input class=\"sk-toggleable__control sk-hidden--visually\" id=\"sk-estimator-id-5\" type=\"checkbox\" checked><label for=\"sk-estimator-id-5\" class=\"sk-toggleable__label sk-toggleable__label-arrow\">XGBClassifier</label><div class=\"sk-toggleable__content\"><pre>XGBClassifier(base_score=None, booster=&#x27;gbtree&#x27;, callbacks=None,\n",
       "              colsample_bylevel=None, colsample_bynode=None,\n",
       "              colsample_bytree=0.6579661398347049, early_stopping_rounds=10,\n",
       "              enable_categorical=False, eval_metric=&#x27;error&#x27;, feature_types=None,\n",
       "              gamma=None, gpu_id=None, grow_policy=None, importance_type=None,\n",
       "              interaction_constraints=None, learning_rate=0.17392073226596919,\n",
       "              max_bin=None, max_cat_threshold=None, max_cat_to_onehot=None,\n",
       "              max_delta_step=None, max_depth=12, max_leaves=None,\n",
       "              min_child_weight=None, missing=nan, monotone_constraints=None,\n",
       "              n_estimators=258, n_jobs=4, num_parallel_tree=None,\n",
       "              predictor=None, random_state=None, ...)</pre></div></div></div></div></div>"
      ],
      "text/plain": [
       "XGBClassifier(base_score=None, booster='gbtree', callbacks=None,\n",
       "              colsample_bylevel=None, colsample_bynode=None,\n",
       "              colsample_bytree=0.6579661398347049, early_stopping_rounds=10,\n",
       "              enable_categorical=False, eval_metric='error', feature_types=None,\n",
       "              gamma=None, gpu_id=None, grow_policy=None, importance_type=None,\n",
       "              interaction_constraints=None, learning_rate=0.17392073226596919,\n",
       "              max_bin=None, max_cat_threshold=None, max_cat_to_onehot=None,\n",
       "              max_delta_step=None, max_depth=12, max_leaves=None,\n",
       "              min_child_weight=None, missing=nan, monotone_constraints=None,\n",
       "              n_estimators=258, n_jobs=4, num_parallel_tree=None,\n",
       "              predictor=None, random_state=None, ...)"
      ]
     },
     "execution_count": 33,
     "metadata": {},
     "output_type": "execute_result"
    }
   ],
   "source": [
    "classifier2 = XGBClassifier(**best_params, booster=\"gbtree\", n_jobs=4, tree_method='hist', eval_metric=\"error\", early_stopping_rounds=10)\n",
    "classifier2.fit(X=X_train, y=y_train, eval_set=[(X_val, y_val)])"
   ]
  },
  {
   "cell_type": "code",
   "execution_count": 38,
   "id": "bce8a60c",
   "metadata": {},
   "outputs": [
    {
     "data": {
      "text/plain": [
       "65"
      ]
     },
     "execution_count": 38,
     "metadata": {},
     "output_type": "execute_result"
    }
   ],
   "source": [
    "classifier2.best_iteration"
   ]
  },
  {
   "cell_type": "code",
   "execution_count": 42,
   "id": "3cc54232",
   "metadata": {},
   "outputs": [
    {
     "name": "stdout",
     "output_type": "stream",
     "text": [
      "[0]\tvalidation_0-error:0.12306\n",
      "[1]\tvalidation_0-error:0.11679\n",
      "[2]\tvalidation_0-error:0.11754\n",
      "[3]\tvalidation_0-error:0.11441\n",
      "[4]\tvalidation_0-error:0.11244\n",
      "[5]\tvalidation_0-error:0.11350\n",
      "[6]\tvalidation_0-error:0.11181\n",
      "[7]\tvalidation_0-error:0.10921\n",
      "[8]\tvalidation_0-error:0.11043\n",
      "[9]\tvalidation_0-error:0.10915\n",
      "[10]\tvalidation_0-error:0.10740\n",
      "[11]\tvalidation_0-error:0.10687\n",
      "[12]\tvalidation_0-error:0.10586\n",
      "[13]\tvalidation_0-error:0.10496\n",
      "[14]\tvalidation_0-error:0.10517\n",
      "[15]\tvalidation_0-error:0.10486\n",
      "[16]\tvalidation_0-error:0.10432\n",
      "[17]\tvalidation_0-error:0.10390\n",
      "[18]\tvalidation_0-error:0.10358\n",
      "[19]\tvalidation_0-error:0.10257\n",
      "[20]\tvalidation_0-error:0.10252\n",
      "[21]\tvalidation_0-error:0.10199\n",
      "[22]\tvalidation_0-error:0.10231\n",
      "[23]\tvalidation_0-error:0.10183\n",
      "[24]\tvalidation_0-error:0.10167\n",
      "[25]\tvalidation_0-error:0.10119\n",
      "[26]\tvalidation_0-error:0.10125\n",
      "[27]\tvalidation_0-error:0.10125\n",
      "[28]\tvalidation_0-error:0.10098\n",
      "[29]\tvalidation_0-error:0.10098\n",
      "[30]\tvalidation_0-error:0.10072\n",
      "[31]\tvalidation_0-error:0.10003\n",
      "[32]\tvalidation_0-error:0.10003\n",
      "[33]\tvalidation_0-error:0.09981\n",
      "[34]\tvalidation_0-error:0.09944\n",
      "[35]\tvalidation_0-error:0.09976\n",
      "[36]\tvalidation_0-error:0.09923\n",
      "[37]\tvalidation_0-error:0.09859\n",
      "[38]\tvalidation_0-error:0.09865\n",
      "[39]\tvalidation_0-error:0.09838\n",
      "[40]\tvalidation_0-error:0.09822\n",
      "[41]\tvalidation_0-error:0.09785\n",
      "[42]\tvalidation_0-error:0.09759\n",
      "[43]\tvalidation_0-error:0.09769\n",
      "[44]\tvalidation_0-error:0.09822\n",
      "[45]\tvalidation_0-error:0.09796\n",
      "[46]\tvalidation_0-error:0.09790\n",
      "[47]\tvalidation_0-error:0.09817\n",
      "[48]\tvalidation_0-error:0.09785\n",
      "[49]\tvalidation_0-error:0.09721\n",
      "[50]\tvalidation_0-error:0.09743\n",
      "[51]\tvalidation_0-error:0.09732\n",
      "[52]\tvalidation_0-error:0.09737\n",
      "[53]\tvalidation_0-error:0.09737\n",
      "[54]\tvalidation_0-error:0.09759\n",
      "[55]\tvalidation_0-error:0.09721\n",
      "[56]\tvalidation_0-error:0.09716\n",
      "[57]\tvalidation_0-error:0.09721\n",
      "[58]\tvalidation_0-error:0.09700\n",
      "[59]\tvalidation_0-error:0.09727\n",
      "[60]\tvalidation_0-error:0.09695\n",
      "[61]\tvalidation_0-error:0.09684\n",
      "[62]\tvalidation_0-error:0.09700\n",
      "[63]\tvalidation_0-error:0.09647\n",
      "[64]\tvalidation_0-error:0.09637\n",
      "[65]\tvalidation_0-error:0.09578\n",
      "[66]\tvalidation_0-error:0.09594\n",
      "[67]\tvalidation_0-error:0.09589\n",
      "[68]\tvalidation_0-error:0.09631\n",
      "[69]\tvalidation_0-error:0.09626\n",
      "[70]\tvalidation_0-error:0.09642\n",
      "[71]\tvalidation_0-error:0.09637\n",
      "[72]\tvalidation_0-error:0.09589\n",
      "[73]\tvalidation_0-error:0.09631\n",
      "[74]\tvalidation_0-error:0.09626\n",
      "[75]\tvalidation_0-error:0.09647\n",
      "[76]\tvalidation_0-error:0.09631\n",
      "[77]\tvalidation_0-error:0.09658\n",
      "[78]\tvalidation_0-error:0.09663\n",
      "[79]\tvalidation_0-error:0.09684\n",
      "[80]\tvalidation_0-error:0.09690\n",
      "[81]\tvalidation_0-error:0.09721\n",
      "[82]\tvalidation_0-error:0.09690\n",
      "[83]\tvalidation_0-error:0.09732\n",
      "[84]\tvalidation_0-error:0.09727\n"
     ]
    },
    {
     "data": {
      "text/html": [
       "<style>#sk-container-id-7 {color: black;background-color: white;}#sk-container-id-7 pre{padding: 0;}#sk-container-id-7 div.sk-toggleable {background-color: white;}#sk-container-id-7 label.sk-toggleable__label {cursor: pointer;display: block;width: 100%;margin-bottom: 0;padding: 0.3em;box-sizing: border-box;text-align: center;}#sk-container-id-7 label.sk-toggleable__label-arrow:before {content: \"▸\";float: left;margin-right: 0.25em;color: #696969;}#sk-container-id-7 label.sk-toggleable__label-arrow:hover:before {color: black;}#sk-container-id-7 div.sk-estimator:hover label.sk-toggleable__label-arrow:before {color: black;}#sk-container-id-7 div.sk-toggleable__content {max-height: 0;max-width: 0;overflow: hidden;text-align: left;background-color: #f0f8ff;}#sk-container-id-7 div.sk-toggleable__content pre {margin: 0.2em;color: black;border-radius: 0.25em;background-color: #f0f8ff;}#sk-container-id-7 input.sk-toggleable__control:checked~div.sk-toggleable__content {max-height: 200px;max-width: 100%;overflow: auto;}#sk-container-id-7 input.sk-toggleable__control:checked~label.sk-toggleable__label-arrow:before {content: \"▾\";}#sk-container-id-7 div.sk-estimator input.sk-toggleable__control:checked~label.sk-toggleable__label {background-color: #d4ebff;}#sk-container-id-7 div.sk-label input.sk-toggleable__control:checked~label.sk-toggleable__label {background-color: #d4ebff;}#sk-container-id-7 input.sk-hidden--visually {border: 0;clip: rect(1px 1px 1px 1px);clip: rect(1px, 1px, 1px, 1px);height: 1px;margin: -1px;overflow: hidden;padding: 0;position: absolute;width: 1px;}#sk-container-id-7 div.sk-estimator {font-family: monospace;background-color: #f0f8ff;border: 1px dotted black;border-radius: 0.25em;box-sizing: border-box;margin-bottom: 0.5em;}#sk-container-id-7 div.sk-estimator:hover {background-color: #d4ebff;}#sk-container-id-7 div.sk-parallel-item::after {content: \"\";width: 100%;border-bottom: 1px solid gray;flex-grow: 1;}#sk-container-id-7 div.sk-label:hover label.sk-toggleable__label {background-color: #d4ebff;}#sk-container-id-7 div.sk-serial::before {content: \"\";position: absolute;border-left: 1px solid gray;box-sizing: border-box;top: 0;bottom: 0;left: 50%;z-index: 0;}#sk-container-id-7 div.sk-serial {display: flex;flex-direction: column;align-items: center;background-color: white;padding-right: 0.2em;padding-left: 0.2em;position: relative;}#sk-container-id-7 div.sk-item {position: relative;z-index: 1;}#sk-container-id-7 div.sk-parallel {display: flex;align-items: stretch;justify-content: center;background-color: white;position: relative;}#sk-container-id-7 div.sk-item::before, #sk-container-id-7 div.sk-parallel-item::before {content: \"\";position: absolute;border-left: 1px solid gray;box-sizing: border-box;top: 0;bottom: 0;left: 50%;z-index: -1;}#sk-container-id-7 div.sk-parallel-item {display: flex;flex-direction: column;z-index: 1;position: relative;background-color: white;}#sk-container-id-7 div.sk-parallel-item:first-child::after {align-self: flex-end;width: 50%;}#sk-container-id-7 div.sk-parallel-item:last-child::after {align-self: flex-start;width: 50%;}#sk-container-id-7 div.sk-parallel-item:only-child::after {width: 0;}#sk-container-id-7 div.sk-dashed-wrapped {border: 1px dashed gray;margin: 0 0.4em 0.5em 0.4em;box-sizing: border-box;padding-bottom: 0.4em;background-color: white;}#sk-container-id-7 div.sk-label label {font-family: monospace;font-weight: bold;display: inline-block;line-height: 1.2em;}#sk-container-id-7 div.sk-label-container {text-align: center;}#sk-container-id-7 div.sk-container {/* jupyter's `normalize.less` sets `[hidden] { display: none; }` but bootstrap.min.css set `[hidden] { display: none !important; }` so we also need the `!important` here to be able to override the default hidden behavior on the sphinx rendered scikit-learn.org. See: https://github.com/scikit-learn/scikit-learn/issues/21755 */display: inline-block !important;position: relative;}#sk-container-id-7 div.sk-text-repr-fallback {display: none;}</style><div id=\"sk-container-id-7\" class=\"sk-top-container\"><div class=\"sk-text-repr-fallback\"><pre>XGBClassifier(base_score=None, booster=&#x27;gbtree&#x27;, callbacks=None,\n",
       "              colsample_bylevel=None, colsample_bynode=None,\n",
       "              colsample_bytree=0.6579661398347049, early_stopping_rounds=20,\n",
       "              enable_categorical=False, eval_metric=&#x27;error&#x27;, feature_types=None,\n",
       "              gamma=None, gpu_id=None, grow_policy=None, importance_type=None,\n",
       "              interaction_constraints=None, learning_rate=0.17392073226596919,\n",
       "              max_bin=None, max_cat_threshold=None, max_cat_to_onehot=None,\n",
       "              max_delta_step=None, max_depth=12, max_leaves=None,\n",
       "              min_child_weight=None, missing=nan, monotone_constraints=None,\n",
       "              n_estimators=258, n_jobs=4, num_parallel_tree=None,\n",
       "              predictor=None, random_state=None, ...)</pre><b>In a Jupyter environment, please rerun this cell to show the HTML representation or trust the notebook. <br />On GitHub, the HTML representation is unable to render, please try loading this page with nbviewer.org.</b></div><div class=\"sk-container\" hidden><div class=\"sk-item\"><div class=\"sk-estimator sk-toggleable\"><input class=\"sk-toggleable__control sk-hidden--visually\" id=\"sk-estimator-id-7\" type=\"checkbox\" checked><label for=\"sk-estimator-id-7\" class=\"sk-toggleable__label sk-toggleable__label-arrow\">XGBClassifier</label><div class=\"sk-toggleable__content\"><pre>XGBClassifier(base_score=None, booster=&#x27;gbtree&#x27;, callbacks=None,\n",
       "              colsample_bylevel=None, colsample_bynode=None,\n",
       "              colsample_bytree=0.6579661398347049, early_stopping_rounds=20,\n",
       "              enable_categorical=False, eval_metric=&#x27;error&#x27;, feature_types=None,\n",
       "              gamma=None, gpu_id=None, grow_policy=None, importance_type=None,\n",
       "              interaction_constraints=None, learning_rate=0.17392073226596919,\n",
       "              max_bin=None, max_cat_threshold=None, max_cat_to_onehot=None,\n",
       "              max_delta_step=None, max_depth=12, max_leaves=None,\n",
       "              min_child_weight=None, missing=nan, monotone_constraints=None,\n",
       "              n_estimators=258, n_jobs=4, num_parallel_tree=None,\n",
       "              predictor=None, random_state=None, ...)</pre></div></div></div></div></div>"
      ],
      "text/plain": [
       "XGBClassifier(base_score=None, booster='gbtree', callbacks=None,\n",
       "              colsample_bylevel=None, colsample_bynode=None,\n",
       "              colsample_bytree=0.6579661398347049, early_stopping_rounds=20,\n",
       "              enable_categorical=False, eval_metric='error', feature_types=None,\n",
       "              gamma=None, gpu_id=None, grow_policy=None, importance_type=None,\n",
       "              interaction_constraints=None, learning_rate=0.17392073226596919,\n",
       "              max_bin=None, max_cat_threshold=None, max_cat_to_onehot=None,\n",
       "              max_delta_step=None, max_depth=12, max_leaves=None,\n",
       "              min_child_weight=None, missing=nan, monotone_constraints=None,\n",
       "              n_estimators=258, n_jobs=4, num_parallel_tree=None,\n",
       "              predictor=None, random_state=None, ...)"
      ]
     },
     "execution_count": 42,
     "metadata": {},
     "output_type": "execute_result"
    }
   ],
   "source": [
    "classifier3 = XGBClassifier(**best_params, booster=\"gbtree\", n_jobs=4, tree_method='hist', eval_metric=\"error\", early_stopping_rounds=20)\n",
    "classifier3.fit(X=X_train, y=y_train, eval_set=[(X_val, y_val)])"
   ]
  },
  {
   "cell_type": "code",
   "execution_count": 43,
   "id": "0799ebeb",
   "metadata": {},
   "outputs": [
    {
     "data": {
      "text/plain": [
       "65"
      ]
     },
     "execution_count": 43,
     "metadata": {},
     "output_type": "execute_result"
    }
   ],
   "source": [
    "classifier3.best_iteration"
   ]
  },
  {
   "cell_type": "code",
   "execution_count": 44,
   "id": "fd88ab29",
   "metadata": {},
   "outputs": [
    {
     "data": {
      "text/plain": [
       "0.9456210646823126"
      ]
     },
     "execution_count": 44,
     "metadata": {},
     "output_type": "execute_result"
    }
   ],
   "source": [
    "f1_score(y_val, classifier3.predict(X_val))"
   ]
  },
  {
   "cell_type": "code",
   "execution_count": 47,
   "id": "8a72b065",
   "metadata": {},
   "outputs": [
    {
     "name": "stdout",
     "output_type": "stream",
     "text": [
      "[1 1 1 ... 1 1 1]\n",
      "[2 2 2 ... 2 2 2]\n"
     ]
    }
   ],
   "source": [
    "pred_vals = classifier3.predict(test_fp)\n",
    "print(pred_vals)\n",
    "new_pred = lab.inverse_transform(pred_vals)\n",
    "print(new_pred)\n",
    "final_df = pd.read_csv(base_path.joinpath('test_II.csv'))\n",
    "final_df['Predicted'] = new_pred\n",
    "final_df.columns = ['Id', 'Predicted']\n",
    "final_df.to_csv(submission_path.joinpath('submission29.csv'), index=False)"
   ]
  },
  {
   "cell_type": "code",
   "execution_count": null,
   "id": "ec15464b",
   "metadata": {},
   "outputs": [],
   "source": []
  }
 ],
 "metadata": {
  "kernelspec": {
   "display_name": "toxic",
   "language": "python",
   "name": "toxic"
  },
  "language_info": {
   "codemirror_mode": {
    "name": "ipython",
    "version": 3
   },
   "file_extension": ".py",
   "mimetype": "text/x-python",
   "name": "python",
   "nbconvert_exporter": "python",
   "pygments_lexer": "ipython3",
   "version": "3.10.0"
  }
 },
 "nbformat": 4,
 "nbformat_minor": 5
}
