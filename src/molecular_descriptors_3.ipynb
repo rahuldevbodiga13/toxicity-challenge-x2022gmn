{
 "cells": [
  {
   "cell_type": "code",
   "execution_count": 1,
   "id": "d876f5c5",
   "metadata": {},
   "outputs": [],
   "source": [
    "from rdkit import Chem\n",
    "from rdkit.Chem import AllChem, Draw, DataStructs\n",
    "import pandas as pd\n",
    "from pathlib import Path\n",
    "import numpy as np\n",
    "from xgboost import XGBClassifier, plot_importance\n",
    "from sklearn.preprocessing import LabelEncoder, StandardScaler, MinMaxScaler\n",
    "from sklearn.model_selection import StratifiedKFold, cross_validate, train_test_split, cross_val_score\n",
    "from sklearn.metrics import f1_score, accuracy_score\n",
    "from tqdm import tqdm\n",
    "import matplotlib.pyplot as plt\n",
    "from hyperopt import fmin, STATUS_OK, tpe, Trials, hp, space_eval"
   ]
  },
  {
   "cell_type": "code",
   "execution_count": 14,
   "id": "50e3b911",
   "metadata": {},
   "outputs": [],
   "source": [
    "base_path = Path().cwd().joinpath('content/datasets/')\n",
    "train_df = pd.read_csv(base_path.joinpath('train_molecular_data.csv'))\n",
    "test_df = pd.read_csv(base_path.joinpath('test_molecular_data.csv'))"
   ]
  },
  {
   "cell_type": "code",
   "execution_count": 16,
   "id": "97d3ec34",
   "metadata": {},
   "outputs": [],
   "source": [
    "# Removing Silicon based elemets\n",
    "train_df.drop(index=[10135, 26306, 42332, 47225, 62942, 72002], axis=0, inplace=True)\n",
    "train_df.reset_index(drop=True, inplace=True)"
   ]
  },
  {
   "cell_type": "code",
   "execution_count": 4,
   "id": "276ed7ff",
   "metadata": {},
   "outputs": [],
   "source": [
    "train_y = train_df.loc[:, 'Expected']\n",
    "train_X = train_df.drop(['Expected'], axis=1)"
   ]
  },
  {
   "cell_type": "code",
   "execution_count": 5,
   "id": "cd74bd18",
   "metadata": {},
   "outputs": [],
   "source": [
    "skf = StratifiedKFold(random_state=10, n_splits=5, shuffle=True)"
   ]
  },
  {
   "cell_type": "code",
   "execution_count": 6,
   "id": "8de37ceb",
   "metadata": {},
   "outputs": [],
   "source": [
    "submission_path = Path().cwd().joinpath('content/submissions/')"
   ]
  },
  {
   "cell_type": "code",
   "execution_count": 17,
   "id": "79c49717",
   "metadata": {},
   "outputs": [],
   "source": [
    "lab = LabelEncoder()\n",
    "train_yT = lab.fit_transform(train_y)\n",
    "X_train, X_val, y_train, y_val = train_test_split(train_X, train_yT, test_size=0.25, random_state=10, stratify=train_yT)"
   ]
  },
  {
   "cell_type": "code",
   "execution_count": 33,
   "id": "e91400d1",
   "metadata": {},
   "outputs": [],
   "source": [
    "standard_params = {\n",
    "    'n_jobs':4,\n",
    "    'tree_method': 'hist',\n",
    "    'booster': 'gbtree',\n",
    "    'max_bin': 256\n",
    "}"
   ]
  },
  {
   "cell_type": "code",
   "execution_count": 19,
   "id": "b65a47fa",
   "metadata": {},
   "outputs": [],
   "source": [
    "def objective(space):\n",
    "    xgb_cl = XGBClassifier(**space, **standard_params, eval_metric=\"error\", early_stopping_rounds=10)\n",
    "    \n",
    "    fit_params={'verbose': False, 'eval_set': [[X_val, y_val]]}\n",
    "    \n",
    "    score = cross_val_score(estimator=xgb_cl, X=X_train, y=y_train, cv=skf, fit_params=fit_params, scoring='f1').mean()\n",
    "\n",
    "    return {'loss': -score, 'status':STATUS_OK}"
   ]
  },
  {
   "cell_type": "code",
   "execution_count": 20,
   "id": "696f52e0",
   "metadata": {},
   "outputs": [],
   "source": [
    "hyper_space = {\n",
    "    'n_estimators': hp.randint('n_estimators', 100, 1000),\n",
    "    'learning_rate': hp.uniform('learning_rate', 0.01, 0.3),\n",
    "    'max_depth': hp.randint('max_depth', 3, 18),\n",
    "    'subsample': hp.uniform('subsample', 0.5, 1),\n",
    "    'colsample_bytree': hp.uniform('colsample_bytree', 0.5, 1),\n",
    "    'gamma': hp.uniform ('gamma', 1,9),\n",
    "    'reg_alpha' : hp.quniform('reg_alpha', 40,180,1),\n",
    "    'reg_lambda' : hp.uniform('reg_lambda', 0,1),\n",
    "    'min_child_weight' : hp.quniform('min_child_weight', 0, 10, 1)\n",
    "}"
   ]
  },
  {
   "cell_type": "code",
   "execution_count": 21,
   "id": "e9f17edb",
   "metadata": {},
   "outputs": [
    {
     "name": "stdout",
     "output_type": "stream",
     "text": [
      "100%|██████| 100/100 [07:15<00:00,  4.35s/trial, best loss: -0.9363275303177486]\n"
     ]
    }
   ],
   "source": [
    "trials = Trials()\n",
    "best_params = fmin(fn=objective, space=hyper_space, algo=tpe.suggest, max_evals=100, trials=trials)"
   ]
  },
  {
   "cell_type": "code",
   "execution_count": 22,
   "id": "bbe23f6a",
   "metadata": {},
   "outputs": [
    {
     "data": {
      "text/plain": [
       "{'colsample_bytree': 0.998188934290663,\n",
       " 'gamma': 1.3894568608014124,\n",
       " 'learning_rate': 0.2774913094891554,\n",
       " 'max_depth': 17,\n",
       " 'min_child_weight': 6.0,\n",
       " 'n_estimators': 869,\n",
       " 'reg_alpha': 43.0,\n",
       " 'reg_lambda': 0.8102486358276241,\n",
       " 'subsample': 0.9202999279561747}"
      ]
     },
     "execution_count": 22,
     "metadata": {},
     "output_type": "execute_result"
    }
   ],
   "source": [
    "best_params"
   ]
  },
  {
   "cell_type": "code",
   "execution_count": 24,
   "id": "ac635397",
   "metadata": {},
   "outputs": [
    {
     "name": "stdout",
     "output_type": "stream",
     "text": [
      "0.9393784167215191\n"
     ]
    }
   ],
   "source": [
    "xgb1 = XGBClassifier(**best_params, **standard_params)\n",
    "scores = cross_validate(estimator=xgb1, X=train_X, y=train_yT, cv=skf, scoring='f1', n_jobs=4)\n",
    "print(np.mean(scores['test_score']))"
   ]
  },
  {
   "cell_type": "code",
   "execution_count": 25,
   "id": "037d1eaa",
   "metadata": {},
   "outputs": [],
   "source": [
    "def pred_and_sub(classifier, sub_no):\n",
    "    classifier.fit(X=train_X, y=train_yT)\n",
    "    pred_vals = classifier.predict(test_df)\n",
    "    print(pred_vals)\n",
    "    new_pred = lab.inverse_transform(pred_vals)\n",
    "    print(new_pred)\n",
    "    final_df = pd.read_csv(base_path.joinpath('test_II.csv'))\n",
    "    final_df['Predicted'] = new_pred\n",
    "    final_df.columns = ['Id', 'Predicted']\n",
    "    final_df.to_csv(submission_path.joinpath(f'submission{sub_no}.csv'), index=False)"
   ]
  },
  {
   "cell_type": "code",
   "execution_count": 26,
   "id": "52c5d508",
   "metadata": {},
   "outputs": [
    {
     "name": "stdout",
     "output_type": "stream",
     "text": [
      "[1 1 1 ... 1 1 1]\n",
      "[2 2 2 ... 2 2 2]\n"
     ]
    }
   ],
   "source": [
    "pred_and_sub(xgb1, 38)"
   ]
  },
  {
   "cell_type": "code",
   "execution_count": 27,
   "id": "bbcb1484",
   "metadata": {},
   "outputs": [
    {
     "name": "stdout",
     "output_type": "stream",
     "text": [
      "100%|██████| 100/100 [19:54<00:00, 11.95s/trial, best loss: -0.9468337094649553]\n"
     ]
    }
   ],
   "source": [
    "hyper_space_2 = {\n",
    "    'n_estimators': hp.randint('n_estimators', 100, 1000),\n",
    "    'learning_rate': hp.uniform('learning_rate', 0.01, 0.3),\n",
    "    'max_depth': hp.randint('max_depth', 3, 18),\n",
    "    'subsample': hp.uniform('subsample', 0.5, 1),\n",
    "    'colsample_bytree': hp.uniform('colsample_bytree', 0.5, 1),\n",
    "    'gamma': hp.uniform ('gamma', 1,9),\n",
    "    'min_child_weight' : hp.quniform('min_child_weight', 0, 10, 1)\n",
    "}\n",
    "trials = Trials()\n",
    "best_params = fmin(fn=objective, space=hyper_space_2, algo=tpe.suggest, max_evals=100, trials=trials)"
   ]
  },
  {
   "cell_type": "code",
   "execution_count": 28,
   "id": "66397ed0",
   "metadata": {},
   "outputs": [
    {
     "data": {
      "text/plain": [
       "{'colsample_bytree': 0.7750734841491662,\n",
       " 'gamma': 2.2184283162604066,\n",
       " 'learning_rate': 0.060082928981384884,\n",
       " 'max_depth': 15,\n",
       " 'min_child_weight': 1.0,\n",
       " 'n_estimators': 332,\n",
       " 'subsample': 0.8190652140923665}"
      ]
     },
     "execution_count": 28,
     "metadata": {},
     "output_type": "execute_result"
    }
   ],
   "source": [
    "best_params"
   ]
  },
  {
   "cell_type": "code",
   "execution_count": 32,
   "id": "72be12b6",
   "metadata": {},
   "outputs": [
    {
     "ename": "ValueError",
     "evalue": "\nAll the 5 fits failed.\nIt is very likely that your model is misconfigured.\nYou can try to debug the error by setting error_score='raise'.\n\nBelow are more details about the failures:\n--------------------------------------------------------------------------------\n1 fits failed with the following error:\nTraceback (most recent call last):\n  File \"/Users/rahuldev/miniforge3/envs/toxic/lib/python3.10/site-packages/sklearn/model_selection/_validation.py\", line 686, in _fit_and_score\n    estimator.fit(X_train, y_train, **fit_params)\n  File \"/Users/rahuldev/miniforge3/envs/toxic/lib/python3.10/site-packages/xgboost/core.py\", line 620, in inner_f\n    return func(**kwargs)\n  File \"/Users/rahuldev/miniforge3/envs/toxic/lib/python3.10/site-packages/xgboost/sklearn.py\", line 1490, in fit\n    self._Booster = train(\n  File \"/Users/rahuldev/miniforge3/envs/toxic/lib/python3.10/site-packages/xgboost/core.py\", line 620, in inner_f\n    return func(**kwargs)\n  File \"/Users/rahuldev/miniforge3/envs/toxic/lib/python3.10/site-packages/xgboost/training.py\", line 185, in train\n    bst.update(dtrain, i, obj)\n  File \"/Users/rahuldev/miniforge3/envs/toxic/lib/python3.10/site-packages/xgboost/core.py\", line 1918, in update\n    _check_call(_LIB.XGBoosterUpdateOneIter(self.handle,\n  File \"/Users/rahuldev/miniforge3/envs/toxic/lib/python3.10/site-packages/xgboost/core.py\", line 279, in _check_call\n    raise XGBoostError(py_str(_LIB.XGBGetLastError()))\nxgboost.core.XGBoostError: [11:22:01] /Users/runner/miniforge3/conda-bld/xgboost-split_1679035139432/work/src/gbm/../common/common.h:239: XGBoost version not compiled with GPU support.\nStack trace:\n  [bt] (0) 1   libxgboost.dylib                    0x000000012a3ee9d8 dmlc::LogMessageFatal::~LogMessageFatal() + 124\n  [bt] (1) 2   libxgboost.dylib                    0x000000012a4ddbb0 xgboost::gbm::GBTree::ConfigureUpdaters() + 528\n  [bt] (2) 3   libxgboost.dylib                    0x000000012a4d8d40 xgboost::gbm::GBTree::Configure(std::__1::vector<std::__1::pair<std::__1::basic_string<char, std::__1::char_traits<char>, std::__1::allocator<char> >, std::__1::basic_string<char, std::__1::char_traits<char>, std::__1::allocator<char> > >, std::__1::allocator<std::__1::pair<std::__1::basic_string<char, std::__1::char_traits<char>, std::__1::allocator<char> >, std::__1::basic_string<char, std::__1::char_traits<char>, std::__1::allocator<char> > > > > const&) + 912\n  [bt] (3) 4   libxgboost.dylib                    0x000000012a4f882c xgboost::LearnerConfiguration::Configure() + 1040\n  [bt] (4) 5   libxgboost.dylib                    0x000000012a4f8ab0 xgboost::LearnerImpl::UpdateOneIter(int, std::__1::shared_ptr<xgboost::DMatrix>) + 144\n  [bt] (5) 6   libxgboost.dylib                    0x000000012a408744 XGBoosterUpdateOneIter + 160\n  [bt] (6) 7   libffi.8.dylib                      0x0000000101b5804c ffi_call_SYSV + 76\n  [bt] (7) 8   libffi.8.dylib                      0x0000000101b5574c ffi_call_int + 1208\n  [bt] (8) 9   _ctypes.cpython-310-darwin.so       0x0000000101b90c58 _ctypes_callproc + 1236\n\n\n\n--------------------------------------------------------------------------------\n1 fits failed with the following error:\nTraceback (most recent call last):\n  File \"/Users/rahuldev/miniforge3/envs/toxic/lib/python3.10/site-packages/sklearn/model_selection/_validation.py\", line 686, in _fit_and_score\n    estimator.fit(X_train, y_train, **fit_params)\n  File \"/Users/rahuldev/miniforge3/envs/toxic/lib/python3.10/site-packages/xgboost/core.py\", line 620, in inner_f\n    return func(**kwargs)\n  File \"/Users/rahuldev/miniforge3/envs/toxic/lib/python3.10/site-packages/xgboost/sklearn.py\", line 1490, in fit\n    self._Booster = train(\n  File \"/Users/rahuldev/miniforge3/envs/toxic/lib/python3.10/site-packages/xgboost/core.py\", line 620, in inner_f\n    return func(**kwargs)\n  File \"/Users/rahuldev/miniforge3/envs/toxic/lib/python3.10/site-packages/xgboost/training.py\", line 185, in train\n    bst.update(dtrain, i, obj)\n  File \"/Users/rahuldev/miniforge3/envs/toxic/lib/python3.10/site-packages/xgboost/core.py\", line 1918, in update\n    _check_call(_LIB.XGBoosterUpdateOneIter(self.handle,\n  File \"/Users/rahuldev/miniforge3/envs/toxic/lib/python3.10/site-packages/xgboost/core.py\", line 279, in _check_call\n    raise XGBoostError(py_str(_LIB.XGBGetLastError()))\nxgboost.core.XGBoostError: [11:22:01] /Users/runner/miniforge3/conda-bld/xgboost-split_1679035139432/work/src/gbm/../common/common.h:239: XGBoost version not compiled with GPU support.\nStack trace:\n  [bt] (0) 1   libxgboost.dylib                    0x000000011ddc69d8 dmlc::LogMessageFatal::~LogMessageFatal() + 124\n  [bt] (1) 2   libxgboost.dylib                    0x000000011deb5bb0 xgboost::gbm::GBTree::ConfigureUpdaters() + 528\n  [bt] (2) 3   libxgboost.dylib                    0x000000011deb0d40 xgboost::gbm::GBTree::Configure(std::__1::vector<std::__1::pair<std::__1::basic_string<char, std::__1::char_traits<char>, std::__1::allocator<char> >, std::__1::basic_string<char, std::__1::char_traits<char>, std::__1::allocator<char> > >, std::__1::allocator<std::__1::pair<std::__1::basic_string<char, std::__1::char_traits<char>, std::__1::allocator<char> >, std::__1::basic_string<char, std::__1::char_traits<char>, std::__1::allocator<char> > > > > const&) + 912\n  [bt] (3) 4   libxgboost.dylib                    0x000000011ded082c xgboost::LearnerConfiguration::Configure() + 1040\n  [bt] (4) 5   libxgboost.dylib                    0x000000011ded0ab0 xgboost::LearnerImpl::UpdateOneIter(int, std::__1::shared_ptr<xgboost::DMatrix>) + 144\n  [bt] (5) 6   libxgboost.dylib                    0x000000011dde0744 XGBoosterUpdateOneIter + 160\n  [bt] (6) 7   libffi.8.dylib                      0x00000001061b004c ffi_call_SYSV + 76\n  [bt] (7) 8   libffi.8.dylib                      0x00000001061ad74c ffi_call_int + 1208\n  [bt] (8) 9   _ctypes.cpython-310-darwin.so       0x00000001061e8c58 _ctypes_callproc + 1236\n\n\n\n--------------------------------------------------------------------------------\n1 fits failed with the following error:\nTraceback (most recent call last):\n  File \"/Users/rahuldev/miniforge3/envs/toxic/lib/python3.10/site-packages/sklearn/model_selection/_validation.py\", line 686, in _fit_and_score\n    estimator.fit(X_train, y_train, **fit_params)\n  File \"/Users/rahuldev/miniforge3/envs/toxic/lib/python3.10/site-packages/xgboost/core.py\", line 620, in inner_f\n    return func(**kwargs)\n  File \"/Users/rahuldev/miniforge3/envs/toxic/lib/python3.10/site-packages/xgboost/sklearn.py\", line 1490, in fit\n    self._Booster = train(\n  File \"/Users/rahuldev/miniforge3/envs/toxic/lib/python3.10/site-packages/xgboost/core.py\", line 620, in inner_f\n    return func(**kwargs)\n  File \"/Users/rahuldev/miniforge3/envs/toxic/lib/python3.10/site-packages/xgboost/training.py\", line 185, in train\n    bst.update(dtrain, i, obj)\n  File \"/Users/rahuldev/miniforge3/envs/toxic/lib/python3.10/site-packages/xgboost/core.py\", line 1918, in update\n    _check_call(_LIB.XGBoosterUpdateOneIter(self.handle,\n  File \"/Users/rahuldev/miniforge3/envs/toxic/lib/python3.10/site-packages/xgboost/core.py\", line 279, in _check_call\n    raise XGBoostError(py_str(_LIB.XGBGetLastError()))\nxgboost.core.XGBoostError: [11:22:01] /Users/runner/miniforge3/conda-bld/xgboost-split_1679035139432/work/src/gbm/../common/common.h:239: XGBoost version not compiled with GPU support.\nStack trace:\n  [bt] (0) 1   libxgboost.dylib                    0x000000011f8ca9d8 dmlc::LogMessageFatal::~LogMessageFatal() + 124\n  [bt] (1) 2   libxgboost.dylib                    0x000000011f9b9bb0 xgboost::gbm::GBTree::ConfigureUpdaters() + 528\n  [bt] (2) 3   libxgboost.dylib                    0x000000011f9b4d40 xgboost::gbm::GBTree::Configure(std::__1::vector<std::__1::pair<std::__1::basic_string<char, std::__1::char_traits<char>, std::__1::allocator<char> >, std::__1::basic_string<char, std::__1::char_traits<char>, std::__1::allocator<char> > >, std::__1::allocator<std::__1::pair<std::__1::basic_string<char, std::__1::char_traits<char>, std::__1::allocator<char> >, std::__1::basic_string<char, std::__1::char_traits<char>, std::__1::allocator<char> > > > > const&) + 912\n  [bt] (3) 4   libxgboost.dylib                    0x000000011f9d482c xgboost::LearnerConfiguration::Configure() + 1040\n  [bt] (4) 5   libxgboost.dylib                    0x000000011f9d4ab0 xgboost::LearnerImpl::UpdateOneIter(int, std::__1::shared_ptr<xgboost::DMatrix>) + 144\n  [bt] (5) 6   libxgboost.dylib                    0x000000011f8e4744 XGBoosterUpdateOneIter + 160\n  [bt] (6) 7   libffi.8.dylib                      0x00000001060b404c ffi_call_SYSV + 76\n  [bt] (7) 8   libffi.8.dylib                      0x00000001060b174c ffi_call_int + 1208\n  [bt] (8) 9   _ctypes.cpython-310-darwin.so       0x00000001060ecc58 _ctypes_callproc + 1236\n\n\n\n--------------------------------------------------------------------------------\n1 fits failed with the following error:\nTraceback (most recent call last):\n  File \"/Users/rahuldev/miniforge3/envs/toxic/lib/python3.10/site-packages/sklearn/model_selection/_validation.py\", line 686, in _fit_and_score\n    estimator.fit(X_train, y_train, **fit_params)\n  File \"/Users/rahuldev/miniforge3/envs/toxic/lib/python3.10/site-packages/xgboost/core.py\", line 620, in inner_f\n    return func(**kwargs)\n  File \"/Users/rahuldev/miniforge3/envs/toxic/lib/python3.10/site-packages/xgboost/sklearn.py\", line 1490, in fit\n    self._Booster = train(\n  File \"/Users/rahuldev/miniforge3/envs/toxic/lib/python3.10/site-packages/xgboost/core.py\", line 620, in inner_f\n    return func(**kwargs)\n  File \"/Users/rahuldev/miniforge3/envs/toxic/lib/python3.10/site-packages/xgboost/training.py\", line 185, in train\n    bst.update(dtrain, i, obj)\n  File \"/Users/rahuldev/miniforge3/envs/toxic/lib/python3.10/site-packages/xgboost/core.py\", line 1918, in update\n    _check_call(_LIB.XGBoosterUpdateOneIter(self.handle,\n  File \"/Users/rahuldev/miniforge3/envs/toxic/lib/python3.10/site-packages/xgboost/core.py\", line 279, in _check_call\n    raise XGBoostError(py_str(_LIB.XGBGetLastError()))\nxgboost.core.XGBoostError: [11:22:01] /Users/runner/miniforge3/conda-bld/xgboost-split_1679035139432/work/src/gbm/../common/common.h:239: XGBoost version not compiled with GPU support.\nStack trace:\n  [bt] (0) 1   libxgboost.dylib                    0x000000012259e9d8 dmlc::LogMessageFatal::~LogMessageFatal() + 124\n  [bt] (1) 2   libxgboost.dylib                    0x000000012268dbb0 xgboost::gbm::GBTree::ConfigureUpdaters() + 528\n  [bt] (2) 3   libxgboost.dylib                    0x0000000122688d40 xgboost::gbm::GBTree::Configure(std::__1::vector<std::__1::pair<std::__1::basic_string<char, std::__1::char_traits<char>, std::__1::allocator<char> >, std::__1::basic_string<char, std::__1::char_traits<char>, std::__1::allocator<char> > >, std::__1::allocator<std::__1::pair<std::__1::basic_string<char, std::__1::char_traits<char>, std::__1::allocator<char> >, std::__1::basic_string<char, std::__1::char_traits<char>, std::__1::allocator<char> > > > > const&) + 912\n  [bt] (3) 4   libxgboost.dylib                    0x00000001226a882c xgboost::LearnerConfiguration::Configure() + 1040\n  [bt] (4) 5   libxgboost.dylib                    0x00000001226a8ab0 xgboost::LearnerImpl::UpdateOneIter(int, std::__1::shared_ptr<xgboost::DMatrix>) + 144\n  [bt] (5) 6   libxgboost.dylib                    0x00000001225b8744 XGBoosterUpdateOneIter + 160\n  [bt] (6) 7   libffi.8.dylib                      0x0000000101fd804c ffi_call_SYSV + 76\n  [bt] (7) 8   libffi.8.dylib                      0x0000000101fd574c ffi_call_int + 1208\n  [bt] (8) 9   _ctypes.cpython-310-darwin.so       0x0000000102010c58 _ctypes_callproc + 1236\n\n\n\n--------------------------------------------------------------------------------\n1 fits failed with the following error:\nTraceback (most recent call last):\n  File \"/Users/rahuldev/miniforge3/envs/toxic/lib/python3.10/site-packages/sklearn/model_selection/_validation.py\", line 686, in _fit_and_score\n    estimator.fit(X_train, y_train, **fit_params)\n  File \"/Users/rahuldev/miniforge3/envs/toxic/lib/python3.10/site-packages/xgboost/core.py\", line 620, in inner_f\n    return func(**kwargs)\n  File \"/Users/rahuldev/miniforge3/envs/toxic/lib/python3.10/site-packages/xgboost/sklearn.py\", line 1490, in fit\n    self._Booster = train(\n  File \"/Users/rahuldev/miniforge3/envs/toxic/lib/python3.10/site-packages/xgboost/core.py\", line 620, in inner_f\n    return func(**kwargs)\n  File \"/Users/rahuldev/miniforge3/envs/toxic/lib/python3.10/site-packages/xgboost/training.py\", line 185, in train\n    bst.update(dtrain, i, obj)\n  File \"/Users/rahuldev/miniforge3/envs/toxic/lib/python3.10/site-packages/xgboost/core.py\", line 1918, in update\n    _check_call(_LIB.XGBoosterUpdateOneIter(self.handle,\n  File \"/Users/rahuldev/miniforge3/envs/toxic/lib/python3.10/site-packages/xgboost/core.py\", line 279, in _check_call\n    raise XGBoostError(py_str(_LIB.XGBGetLastError()))\nxgboost.core.XGBoostError: [11:22:02] /Users/runner/miniforge3/conda-bld/xgboost-split_1679035139432/work/src/gbm/../common/common.h:239: XGBoost version not compiled with GPU support.\nStack trace:\n  [bt] (0) 1   libxgboost.dylib                    0x000000011f8ca9d8 dmlc::LogMessageFatal::~LogMessageFatal() + 124\n  [bt] (1) 2   libxgboost.dylib                    0x000000011f9b9bb0 xgboost::gbm::GBTree::ConfigureUpdaters() + 528\n  [bt] (2) 3   libxgboost.dylib                    0x000000011f9b4d40 xgboost::gbm::GBTree::Configure(std::__1::vector<std::__1::pair<std::__1::basic_string<char, std::__1::char_traits<char>, std::__1::allocator<char> >, std::__1::basic_string<char, std::__1::char_traits<char>, std::__1::allocator<char> > >, std::__1::allocator<std::__1::pair<std::__1::basic_string<char, std::__1::char_traits<char>, std::__1::allocator<char> >, std::__1::basic_string<char, std::__1::char_traits<char>, std::__1::allocator<char> > > > > const&) + 912\n  [bt] (3) 4   libxgboost.dylib                    0x000000011f9d482c xgboost::LearnerConfiguration::Configure() + 1040\n  [bt] (4) 5   libxgboost.dylib                    0x000000011f9d4ab0 xgboost::LearnerImpl::UpdateOneIter(int, std::__1::shared_ptr<xgboost::DMatrix>) + 144\n  [bt] (5) 6   libxgboost.dylib                    0x000000011f8e4744 XGBoosterUpdateOneIter + 160\n  [bt] (6) 7   libffi.8.dylib                      0x00000001060b404c ffi_call_SYSV + 76\n  [bt] (7) 8   libffi.8.dylib                      0x00000001060b174c ffi_call_int + 1208\n  [bt] (8) 9   _ctypes.cpython-310-darwin.so       0x00000001060ecc58 _ctypes_callproc + 1236\n\n\n",
     "output_type": "error",
     "traceback": [
      "\u001b[0;31m---------------------------------------------------------------------------\u001b[0m",
      "\u001b[0;31mValueError\u001b[0m                                Traceback (most recent call last)",
      "Cell \u001b[0;32mIn[32], line 2\u001b[0m\n\u001b[1;32m      1\u001b[0m xgb2 \u001b[38;5;241m=\u001b[39m XGBClassifier(\u001b[38;5;241m*\u001b[39m\u001b[38;5;241m*\u001b[39mbest_params, \u001b[38;5;241m*\u001b[39m\u001b[38;5;241m*\u001b[39mstandard_params)\n\u001b[0;32m----> 2\u001b[0m scores \u001b[38;5;241m=\u001b[39m \u001b[43mcross_validate\u001b[49m\u001b[43m(\u001b[49m\u001b[43mestimator\u001b[49m\u001b[38;5;241;43m=\u001b[39;49m\u001b[43mxgb2\u001b[49m\u001b[43m,\u001b[49m\u001b[43m \u001b[49m\u001b[43mX\u001b[49m\u001b[38;5;241;43m=\u001b[39;49m\u001b[43mtrain_X\u001b[49m\u001b[43m,\u001b[49m\u001b[43m \u001b[49m\u001b[43my\u001b[49m\u001b[38;5;241;43m=\u001b[39;49m\u001b[43mtrain_yT\u001b[49m\u001b[43m,\u001b[49m\u001b[43m \u001b[49m\u001b[43mcv\u001b[49m\u001b[38;5;241;43m=\u001b[39;49m\u001b[43mskf\u001b[49m\u001b[43m,\u001b[49m\u001b[43m \u001b[49m\u001b[43mscoring\u001b[49m\u001b[38;5;241;43m=\u001b[39;49m\u001b[38;5;124;43m'\u001b[39;49m\u001b[38;5;124;43mf1\u001b[39;49m\u001b[38;5;124;43m'\u001b[39;49m\u001b[43m,\u001b[49m\u001b[43m \u001b[49m\u001b[43mn_jobs\u001b[49m\u001b[38;5;241;43m=\u001b[39;49m\u001b[38;5;241;43m4\u001b[39;49m\u001b[43m)\u001b[49m\n\u001b[1;32m      3\u001b[0m \u001b[38;5;28mprint\u001b[39m(np\u001b[38;5;241m.\u001b[39mmean(scores[\u001b[38;5;124m'\u001b[39m\u001b[38;5;124mtest_score\u001b[39m\u001b[38;5;124m'\u001b[39m]))\n",
      "File \u001b[0;32m~/miniforge3/envs/toxic/lib/python3.10/site-packages/sklearn/model_selection/_validation.py:285\u001b[0m, in \u001b[0;36mcross_validate\u001b[0;34m(estimator, X, y, groups, scoring, cv, n_jobs, verbose, fit_params, pre_dispatch, return_train_score, return_estimator, error_score)\u001b[0m\n\u001b[1;32m    265\u001b[0m parallel \u001b[38;5;241m=\u001b[39m Parallel(n_jobs\u001b[38;5;241m=\u001b[39mn_jobs, verbose\u001b[38;5;241m=\u001b[39mverbose, pre_dispatch\u001b[38;5;241m=\u001b[39mpre_dispatch)\n\u001b[1;32m    266\u001b[0m results \u001b[38;5;241m=\u001b[39m parallel(\n\u001b[1;32m    267\u001b[0m     delayed(_fit_and_score)(\n\u001b[1;32m    268\u001b[0m         clone(estimator),\n\u001b[0;32m   (...)\u001b[0m\n\u001b[1;32m    282\u001b[0m     \u001b[38;5;28;01mfor\u001b[39;00m train, test \u001b[38;5;129;01min\u001b[39;00m cv\u001b[38;5;241m.\u001b[39msplit(X, y, groups)\n\u001b[1;32m    283\u001b[0m )\n\u001b[0;32m--> 285\u001b[0m \u001b[43m_warn_or_raise_about_fit_failures\u001b[49m\u001b[43m(\u001b[49m\u001b[43mresults\u001b[49m\u001b[43m,\u001b[49m\u001b[43m \u001b[49m\u001b[43merror_score\u001b[49m\u001b[43m)\u001b[49m\n\u001b[1;32m    287\u001b[0m \u001b[38;5;66;03m# For callabe scoring, the return type is only know after calling. If the\u001b[39;00m\n\u001b[1;32m    288\u001b[0m \u001b[38;5;66;03m# return type is a dictionary, the error scores can now be inserted with\u001b[39;00m\n\u001b[1;32m    289\u001b[0m \u001b[38;5;66;03m# the correct key.\u001b[39;00m\n\u001b[1;32m    290\u001b[0m \u001b[38;5;28;01mif\u001b[39;00m callable(scoring):\n",
      "File \u001b[0;32m~/miniforge3/envs/toxic/lib/python3.10/site-packages/sklearn/model_selection/_validation.py:367\u001b[0m, in \u001b[0;36m_warn_or_raise_about_fit_failures\u001b[0;34m(results, error_score)\u001b[0m\n\u001b[1;32m    360\u001b[0m \u001b[38;5;28;01mif\u001b[39;00m num_failed_fits \u001b[38;5;241m==\u001b[39m num_fits:\n\u001b[1;32m    361\u001b[0m     all_fits_failed_message \u001b[38;5;241m=\u001b[39m (\n\u001b[1;32m    362\u001b[0m         \u001b[38;5;124mf\u001b[39m\u001b[38;5;124m\"\u001b[39m\u001b[38;5;130;01m\\n\u001b[39;00m\u001b[38;5;124mAll the \u001b[39m\u001b[38;5;132;01m{\u001b[39;00mnum_fits\u001b[38;5;132;01m}\u001b[39;00m\u001b[38;5;124m fits failed.\u001b[39m\u001b[38;5;130;01m\\n\u001b[39;00m\u001b[38;5;124m\"\u001b[39m\n\u001b[1;32m    363\u001b[0m         \u001b[38;5;124m\"\u001b[39m\u001b[38;5;124mIt is very likely that your model is misconfigured.\u001b[39m\u001b[38;5;130;01m\\n\u001b[39;00m\u001b[38;5;124m\"\u001b[39m\n\u001b[1;32m    364\u001b[0m         \u001b[38;5;124m\"\u001b[39m\u001b[38;5;124mYou can try to debug the error by setting error_score=\u001b[39m\u001b[38;5;124m'\u001b[39m\u001b[38;5;124mraise\u001b[39m\u001b[38;5;124m'\u001b[39m\u001b[38;5;124m.\u001b[39m\u001b[38;5;130;01m\\n\u001b[39;00m\u001b[38;5;130;01m\\n\u001b[39;00m\u001b[38;5;124m\"\u001b[39m\n\u001b[1;32m    365\u001b[0m         \u001b[38;5;124mf\u001b[39m\u001b[38;5;124m\"\u001b[39m\u001b[38;5;124mBelow are more details about the failures:\u001b[39m\u001b[38;5;130;01m\\n\u001b[39;00m\u001b[38;5;132;01m{\u001b[39;00mfit_errors_summary\u001b[38;5;132;01m}\u001b[39;00m\u001b[38;5;124m\"\u001b[39m\n\u001b[1;32m    366\u001b[0m     )\n\u001b[0;32m--> 367\u001b[0m     \u001b[38;5;28;01mraise\u001b[39;00m \u001b[38;5;167;01mValueError\u001b[39;00m(all_fits_failed_message)\n\u001b[1;32m    369\u001b[0m \u001b[38;5;28;01melse\u001b[39;00m:\n\u001b[1;32m    370\u001b[0m     some_fits_failed_message \u001b[38;5;241m=\u001b[39m (\n\u001b[1;32m    371\u001b[0m         \u001b[38;5;124mf\u001b[39m\u001b[38;5;124m\"\u001b[39m\u001b[38;5;130;01m\\n\u001b[39;00m\u001b[38;5;132;01m{\u001b[39;00mnum_failed_fits\u001b[38;5;132;01m}\u001b[39;00m\u001b[38;5;124m fits failed out of a total of \u001b[39m\u001b[38;5;132;01m{\u001b[39;00mnum_fits\u001b[38;5;132;01m}\u001b[39;00m\u001b[38;5;124m.\u001b[39m\u001b[38;5;130;01m\\n\u001b[39;00m\u001b[38;5;124m\"\u001b[39m\n\u001b[1;32m    372\u001b[0m         \u001b[38;5;124m\"\u001b[39m\u001b[38;5;124mThe score on these train-test partitions for these parameters\u001b[39m\u001b[38;5;124m\"\u001b[39m\n\u001b[0;32m   (...)\u001b[0m\n\u001b[1;32m    376\u001b[0m         \u001b[38;5;124mf\u001b[39m\u001b[38;5;124m\"\u001b[39m\u001b[38;5;124mBelow are more details about the failures:\u001b[39m\u001b[38;5;130;01m\\n\u001b[39;00m\u001b[38;5;132;01m{\u001b[39;00mfit_errors_summary\u001b[38;5;132;01m}\u001b[39;00m\u001b[38;5;124m\"\u001b[39m\n\u001b[1;32m    377\u001b[0m     )\n",
      "\u001b[0;31mValueError\u001b[0m: \nAll the 5 fits failed.\nIt is very likely that your model is misconfigured.\nYou can try to debug the error by setting error_score='raise'.\n\nBelow are more details about the failures:\n--------------------------------------------------------------------------------\n1 fits failed with the following error:\nTraceback (most recent call last):\n  File \"/Users/rahuldev/miniforge3/envs/toxic/lib/python3.10/site-packages/sklearn/model_selection/_validation.py\", line 686, in _fit_and_score\n    estimator.fit(X_train, y_train, **fit_params)\n  File \"/Users/rahuldev/miniforge3/envs/toxic/lib/python3.10/site-packages/xgboost/core.py\", line 620, in inner_f\n    return func(**kwargs)\n  File \"/Users/rahuldev/miniforge3/envs/toxic/lib/python3.10/site-packages/xgboost/sklearn.py\", line 1490, in fit\n    self._Booster = train(\n  File \"/Users/rahuldev/miniforge3/envs/toxic/lib/python3.10/site-packages/xgboost/core.py\", line 620, in inner_f\n    return func(**kwargs)\n  File \"/Users/rahuldev/miniforge3/envs/toxic/lib/python3.10/site-packages/xgboost/training.py\", line 185, in train\n    bst.update(dtrain, i, obj)\n  File \"/Users/rahuldev/miniforge3/envs/toxic/lib/python3.10/site-packages/xgboost/core.py\", line 1918, in update\n    _check_call(_LIB.XGBoosterUpdateOneIter(self.handle,\n  File \"/Users/rahuldev/miniforge3/envs/toxic/lib/python3.10/site-packages/xgboost/core.py\", line 279, in _check_call\n    raise XGBoostError(py_str(_LIB.XGBGetLastError()))\nxgboost.core.XGBoostError: [11:22:01] /Users/runner/miniforge3/conda-bld/xgboost-split_1679035139432/work/src/gbm/../common/common.h:239: XGBoost version not compiled with GPU support.\nStack trace:\n  [bt] (0) 1   libxgboost.dylib                    0x000000012a3ee9d8 dmlc::LogMessageFatal::~LogMessageFatal() + 124\n  [bt] (1) 2   libxgboost.dylib                    0x000000012a4ddbb0 xgboost::gbm::GBTree::ConfigureUpdaters() + 528\n  [bt] (2) 3   libxgboost.dylib                    0x000000012a4d8d40 xgboost::gbm::GBTree::Configure(std::__1::vector<std::__1::pair<std::__1::basic_string<char, std::__1::char_traits<char>, std::__1::allocator<char> >, std::__1::basic_string<char, std::__1::char_traits<char>, std::__1::allocator<char> > >, std::__1::allocator<std::__1::pair<std::__1::basic_string<char, std::__1::char_traits<char>, std::__1::allocator<char> >, std::__1::basic_string<char, std::__1::char_traits<char>, std::__1::allocator<char> > > > > const&) + 912\n  [bt] (3) 4   libxgboost.dylib                    0x000000012a4f882c xgboost::LearnerConfiguration::Configure() + 1040\n  [bt] (4) 5   libxgboost.dylib                    0x000000012a4f8ab0 xgboost::LearnerImpl::UpdateOneIter(int, std::__1::shared_ptr<xgboost::DMatrix>) + 144\n  [bt] (5) 6   libxgboost.dylib                    0x000000012a408744 XGBoosterUpdateOneIter + 160\n  [bt] (6) 7   libffi.8.dylib                      0x0000000101b5804c ffi_call_SYSV + 76\n  [bt] (7) 8   libffi.8.dylib                      0x0000000101b5574c ffi_call_int + 1208\n  [bt] (8) 9   _ctypes.cpython-310-darwin.so       0x0000000101b90c58 _ctypes_callproc + 1236\n\n\n\n--------------------------------------------------------------------------------\n1 fits failed with the following error:\nTraceback (most recent call last):\n  File \"/Users/rahuldev/miniforge3/envs/toxic/lib/python3.10/site-packages/sklearn/model_selection/_validation.py\", line 686, in _fit_and_score\n    estimator.fit(X_train, y_train, **fit_params)\n  File \"/Users/rahuldev/miniforge3/envs/toxic/lib/python3.10/site-packages/xgboost/core.py\", line 620, in inner_f\n    return func(**kwargs)\n  File \"/Users/rahuldev/miniforge3/envs/toxic/lib/python3.10/site-packages/xgboost/sklearn.py\", line 1490, in fit\n    self._Booster = train(\n  File \"/Users/rahuldev/miniforge3/envs/toxic/lib/python3.10/site-packages/xgboost/core.py\", line 620, in inner_f\n    return func(**kwargs)\n  File \"/Users/rahuldev/miniforge3/envs/toxic/lib/python3.10/site-packages/xgboost/training.py\", line 185, in train\n    bst.update(dtrain, i, obj)\n  File \"/Users/rahuldev/miniforge3/envs/toxic/lib/python3.10/site-packages/xgboost/core.py\", line 1918, in update\n    _check_call(_LIB.XGBoosterUpdateOneIter(self.handle,\n  File \"/Users/rahuldev/miniforge3/envs/toxic/lib/python3.10/site-packages/xgboost/core.py\", line 279, in _check_call\n    raise XGBoostError(py_str(_LIB.XGBGetLastError()))\nxgboost.core.XGBoostError: [11:22:01] /Users/runner/miniforge3/conda-bld/xgboost-split_1679035139432/work/src/gbm/../common/common.h:239: XGBoost version not compiled with GPU support.\nStack trace:\n  [bt] (0) 1   libxgboost.dylib                    0x000000011ddc69d8 dmlc::LogMessageFatal::~LogMessageFatal() + 124\n  [bt] (1) 2   libxgboost.dylib                    0x000000011deb5bb0 xgboost::gbm::GBTree::ConfigureUpdaters() + 528\n  [bt] (2) 3   libxgboost.dylib                    0x000000011deb0d40 xgboost::gbm::GBTree::Configure(std::__1::vector<std::__1::pair<std::__1::basic_string<char, std::__1::char_traits<char>, std::__1::allocator<char> >, std::__1::basic_string<char, std::__1::char_traits<char>, std::__1::allocator<char> > >, std::__1::allocator<std::__1::pair<std::__1::basic_string<char, std::__1::char_traits<char>, std::__1::allocator<char> >, std::__1::basic_string<char, std::__1::char_traits<char>, std::__1::allocator<char> > > > > const&) + 912\n  [bt] (3) 4   libxgboost.dylib                    0x000000011ded082c xgboost::LearnerConfiguration::Configure() + 1040\n  [bt] (4) 5   libxgboost.dylib                    0x000000011ded0ab0 xgboost::LearnerImpl::UpdateOneIter(int, std::__1::shared_ptr<xgboost::DMatrix>) + 144\n  [bt] (5) 6   libxgboost.dylib                    0x000000011dde0744 XGBoosterUpdateOneIter + 160\n  [bt] (6) 7   libffi.8.dylib                      0x00000001061b004c ffi_call_SYSV + 76\n  [bt] (7) 8   libffi.8.dylib                      0x00000001061ad74c ffi_call_int + 1208\n  [bt] (8) 9   _ctypes.cpython-310-darwin.so       0x00000001061e8c58 _ctypes_callproc + 1236\n\n\n\n--------------------------------------------------------------------------------\n1 fits failed with the following error:\nTraceback (most recent call last):\n  File \"/Users/rahuldev/miniforge3/envs/toxic/lib/python3.10/site-packages/sklearn/model_selection/_validation.py\", line 686, in _fit_and_score\n    estimator.fit(X_train, y_train, **fit_params)\n  File \"/Users/rahuldev/miniforge3/envs/toxic/lib/python3.10/site-packages/xgboost/core.py\", line 620, in inner_f\n    return func(**kwargs)\n  File \"/Users/rahuldev/miniforge3/envs/toxic/lib/python3.10/site-packages/xgboost/sklearn.py\", line 1490, in fit\n    self._Booster = train(\n  File \"/Users/rahuldev/miniforge3/envs/toxic/lib/python3.10/site-packages/xgboost/core.py\", line 620, in inner_f\n    return func(**kwargs)\n  File \"/Users/rahuldev/miniforge3/envs/toxic/lib/python3.10/site-packages/xgboost/training.py\", line 185, in train\n    bst.update(dtrain, i, obj)\n  File \"/Users/rahuldev/miniforge3/envs/toxic/lib/python3.10/site-packages/xgboost/core.py\", line 1918, in update\n    _check_call(_LIB.XGBoosterUpdateOneIter(self.handle,\n  File \"/Users/rahuldev/miniforge3/envs/toxic/lib/python3.10/site-packages/xgboost/core.py\", line 279, in _check_call\n    raise XGBoostError(py_str(_LIB.XGBGetLastError()))\nxgboost.core.XGBoostError: [11:22:01] /Users/runner/miniforge3/conda-bld/xgboost-split_1679035139432/work/src/gbm/../common/common.h:239: XGBoost version not compiled with GPU support.\nStack trace:\n  [bt] (0) 1   libxgboost.dylib                    0x000000011f8ca9d8 dmlc::LogMessageFatal::~LogMessageFatal() + 124\n  [bt] (1) 2   libxgboost.dylib                    0x000000011f9b9bb0 xgboost::gbm::GBTree::ConfigureUpdaters() + 528\n  [bt] (2) 3   libxgboost.dylib                    0x000000011f9b4d40 xgboost::gbm::GBTree::Configure(std::__1::vector<std::__1::pair<std::__1::basic_string<char, std::__1::char_traits<char>, std::__1::allocator<char> >, std::__1::basic_string<char, std::__1::char_traits<char>, std::__1::allocator<char> > >, std::__1::allocator<std::__1::pair<std::__1::basic_string<char, std::__1::char_traits<char>, std::__1::allocator<char> >, std::__1::basic_string<char, std::__1::char_traits<char>, std::__1::allocator<char> > > > > const&) + 912\n  [bt] (3) 4   libxgboost.dylib                    0x000000011f9d482c xgboost::LearnerConfiguration::Configure() + 1040\n  [bt] (4) 5   libxgboost.dylib                    0x000000011f9d4ab0 xgboost::LearnerImpl::UpdateOneIter(int, std::__1::shared_ptr<xgboost::DMatrix>) + 144\n  [bt] (5) 6   libxgboost.dylib                    0x000000011f8e4744 XGBoosterUpdateOneIter + 160\n  [bt] (6) 7   libffi.8.dylib                      0x00000001060b404c ffi_call_SYSV + 76\n  [bt] (7) 8   libffi.8.dylib                      0x00000001060b174c ffi_call_int + 1208\n  [bt] (8) 9   _ctypes.cpython-310-darwin.so       0x00000001060ecc58 _ctypes_callproc + 1236\n\n\n\n--------------------------------------------------------------------------------\n1 fits failed with the following error:\nTraceback (most recent call last):\n  File \"/Users/rahuldev/miniforge3/envs/toxic/lib/python3.10/site-packages/sklearn/model_selection/_validation.py\", line 686, in _fit_and_score\n    estimator.fit(X_train, y_train, **fit_params)\n  File \"/Users/rahuldev/miniforge3/envs/toxic/lib/python3.10/site-packages/xgboost/core.py\", line 620, in inner_f\n    return func(**kwargs)\n  File \"/Users/rahuldev/miniforge3/envs/toxic/lib/python3.10/site-packages/xgboost/sklearn.py\", line 1490, in fit\n    self._Booster = train(\n  File \"/Users/rahuldev/miniforge3/envs/toxic/lib/python3.10/site-packages/xgboost/core.py\", line 620, in inner_f\n    return func(**kwargs)\n  File \"/Users/rahuldev/miniforge3/envs/toxic/lib/python3.10/site-packages/xgboost/training.py\", line 185, in train\n    bst.update(dtrain, i, obj)\n  File \"/Users/rahuldev/miniforge3/envs/toxic/lib/python3.10/site-packages/xgboost/core.py\", line 1918, in update\n    _check_call(_LIB.XGBoosterUpdateOneIter(self.handle,\n  File \"/Users/rahuldev/miniforge3/envs/toxic/lib/python3.10/site-packages/xgboost/core.py\", line 279, in _check_call\n    raise XGBoostError(py_str(_LIB.XGBGetLastError()))\nxgboost.core.XGBoostError: [11:22:01] /Users/runner/miniforge3/conda-bld/xgboost-split_1679035139432/work/src/gbm/../common/common.h:239: XGBoost version not compiled with GPU support.\nStack trace:\n  [bt] (0) 1   libxgboost.dylib                    0x000000012259e9d8 dmlc::LogMessageFatal::~LogMessageFatal() + 124\n  [bt] (1) 2   libxgboost.dylib                    0x000000012268dbb0 xgboost::gbm::GBTree::ConfigureUpdaters() + 528\n  [bt] (2) 3   libxgboost.dylib                    0x0000000122688d40 xgboost::gbm::GBTree::Configure(std::__1::vector<std::__1::pair<std::__1::basic_string<char, std::__1::char_traits<char>, std::__1::allocator<char> >, std::__1::basic_string<char, std::__1::char_traits<char>, std::__1::allocator<char> > >, std::__1::allocator<std::__1::pair<std::__1::basic_string<char, std::__1::char_traits<char>, std::__1::allocator<char> >, std::__1::basic_string<char, std::__1::char_traits<char>, std::__1::allocator<char> > > > > const&) + 912\n  [bt] (3) 4   libxgboost.dylib                    0x00000001226a882c xgboost::LearnerConfiguration::Configure() + 1040\n  [bt] (4) 5   libxgboost.dylib                    0x00000001226a8ab0 xgboost::LearnerImpl::UpdateOneIter(int, std::__1::shared_ptr<xgboost::DMatrix>) + 144\n  [bt] (5) 6   libxgboost.dylib                    0x00000001225b8744 XGBoosterUpdateOneIter + 160\n  [bt] (6) 7   libffi.8.dylib                      0x0000000101fd804c ffi_call_SYSV + 76\n  [bt] (7) 8   libffi.8.dylib                      0x0000000101fd574c ffi_call_int + 1208\n  [bt] (8) 9   _ctypes.cpython-310-darwin.so       0x0000000102010c58 _ctypes_callproc + 1236\n\n\n\n--------------------------------------------------------------------------------\n1 fits failed with the following error:\nTraceback (most recent call last):\n  File \"/Users/rahuldev/miniforge3/envs/toxic/lib/python3.10/site-packages/sklearn/model_selection/_validation.py\", line 686, in _fit_and_score\n    estimator.fit(X_train, y_train, **fit_params)\n  File \"/Users/rahuldev/miniforge3/envs/toxic/lib/python3.10/site-packages/xgboost/core.py\", line 620, in inner_f\n    return func(**kwargs)\n  File \"/Users/rahuldev/miniforge3/envs/toxic/lib/python3.10/site-packages/xgboost/sklearn.py\", line 1490, in fit\n    self._Booster = train(\n  File \"/Users/rahuldev/miniforge3/envs/toxic/lib/python3.10/site-packages/xgboost/core.py\", line 620, in inner_f\n    return func(**kwargs)\n  File \"/Users/rahuldev/miniforge3/envs/toxic/lib/python3.10/site-packages/xgboost/training.py\", line 185, in train\n    bst.update(dtrain, i, obj)\n  File \"/Users/rahuldev/miniforge3/envs/toxic/lib/python3.10/site-packages/xgboost/core.py\", line 1918, in update\n    _check_call(_LIB.XGBoosterUpdateOneIter(self.handle,\n  File \"/Users/rahuldev/miniforge3/envs/toxic/lib/python3.10/site-packages/xgboost/core.py\", line 279, in _check_call\n    raise XGBoostError(py_str(_LIB.XGBGetLastError()))\nxgboost.core.XGBoostError: [11:22:02] /Users/runner/miniforge3/conda-bld/xgboost-split_1679035139432/work/src/gbm/../common/common.h:239: XGBoost version not compiled with GPU support.\nStack trace:\n  [bt] (0) 1   libxgboost.dylib                    0x000000011f8ca9d8 dmlc::LogMessageFatal::~LogMessageFatal() + 124\n  [bt] (1) 2   libxgboost.dylib                    0x000000011f9b9bb0 xgboost::gbm::GBTree::ConfigureUpdaters() + 528\n  [bt] (2) 3   libxgboost.dylib                    0x000000011f9b4d40 xgboost::gbm::GBTree::Configure(std::__1::vector<std::__1::pair<std::__1::basic_string<char, std::__1::char_traits<char>, std::__1::allocator<char> >, std::__1::basic_string<char, std::__1::char_traits<char>, std::__1::allocator<char> > >, std::__1::allocator<std::__1::pair<std::__1::basic_string<char, std::__1::char_traits<char>, std::__1::allocator<char> >, std::__1::basic_string<char, std::__1::char_traits<char>, std::__1::allocator<char> > > > > const&) + 912\n  [bt] (3) 4   libxgboost.dylib                    0x000000011f9d482c xgboost::LearnerConfiguration::Configure() + 1040\n  [bt] (4) 5   libxgboost.dylib                    0x000000011f9d4ab0 xgboost::LearnerImpl::UpdateOneIter(int, std::__1::shared_ptr<xgboost::DMatrix>) + 144\n  [bt] (5) 6   libxgboost.dylib                    0x000000011f8e4744 XGBoosterUpdateOneIter + 160\n  [bt] (6) 7   libffi.8.dylib                      0x00000001060b404c ffi_call_SYSV + 76\n  [bt] (7) 8   libffi.8.dylib                      0x00000001060b174c ffi_call_int + 1208\n  [bt] (8) 9   _ctypes.cpython-310-darwin.so       0x00000001060ecc58 _ctypes_callproc + 1236\n\n\n"
     ]
    }
   ],
   "source": [
    "xgb2 = XGBClassifier(**best_params, **standard_params)\n",
    "scores = cross_validate(estimator=xgb2, X=train_X, y=train_yT, cv=skf, scoring='f1', n_jobs=4)\n",
    "print(np.mean(scores['test_score']))"
   ]
  },
  {
   "cell_type": "code",
   "execution_count": 30,
   "id": "dca78afb",
   "metadata": {},
   "outputs": [
    {
     "name": "stdout",
     "output_type": "stream",
     "text": [
      "[1 1 1 ... 1 1 1]\n",
      "[2 2 2 ... 2 2 2]\n"
     ]
    }
   ],
   "source": [
    "pred_and_sub(xgb2, 39)"
   ]
  },
  {
   "cell_type": "code",
   "execution_count": null,
   "id": "a18ea62c",
   "metadata": {},
   "outputs": [],
   "source": []
  }
 ],
 "metadata": {
  "kernelspec": {
   "display_name": "toxic",
   "language": "python",
   "name": "toxic"
  },
  "language_info": {
   "codemirror_mode": {
    "name": "ipython",
    "version": 3
   },
   "file_extension": ".py",
   "mimetype": "text/x-python",
   "name": "python",
   "nbconvert_exporter": "python",
   "pygments_lexer": "ipython3",
   "version": "3.10.0"
  }
 },
 "nbformat": 4,
 "nbformat_minor": 5
}
