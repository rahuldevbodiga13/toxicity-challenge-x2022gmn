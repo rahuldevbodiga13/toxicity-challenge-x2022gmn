{
 "cells": [
  {
   "cell_type": "code",
   "execution_count": 1,
   "id": "d0bbcd97",
   "metadata": {},
   "outputs": [],
   "source": [
    "from rdkit import Chem\n",
    "from rdkit.Chem import AllChem, Draw, DataStructs, MACCSkeys\n",
    "import pandas as pd\n",
    "from pathlib import Path\n",
    "import numpy as np\n",
    "from xgboost import XGBClassifier\n",
    "from sklearn.preprocessing import LabelEncoder, StandardScaler, MinMaxScaler\n",
    "from sklearn.model_selection import StratifiedKFold, cross_validate, train_test_split, cross_val_score\n",
    "from sklearn.metrics import f1_score, accuracy_score\n",
    "from tqdm import tqdm\n",
    "import matplotlib.pyplot as plt\n",
    "from hyperopt import fmin, STATUS_OK, tpe, Trials, hp, space_eval"
   ]
  },
  {
   "cell_type": "code",
   "execution_count": 13,
   "id": "ca0c8ba7",
   "metadata": {},
   "outputs": [],
   "source": [
    "base_path = Path().cwd().joinpath('content/datasets/')\n",
    "train_df = pd.read_csv(base_path.joinpath('train_molecular_data.csv'))\n",
    "test_df = pd.read_csv(base_path.joinpath('test_molecular_data.csv'))"
   ]
  },
  {
   "cell_type": "code",
   "execution_count": 19,
   "id": "b250568d",
   "metadata": {},
   "outputs": [],
   "source": [
    "train_y = train_df.loc[:, 'Expected']\n",
    "train_X = train_df.drop(['Expected'], axis=1)"
   ]
  },
  {
   "cell_type": "code",
   "execution_count": 20,
   "id": "afd24e77",
   "metadata": {},
   "outputs": [],
   "source": [
    "skf = StratifiedKFold(random_state=10, n_splits=5, shuffle=True)"
   ]
  },
  {
   "cell_type": "code",
   "execution_count": 21,
   "id": "794d609e",
   "metadata": {},
   "outputs": [],
   "source": [
    "submission_path = Path().cwd().joinpath('content/submissions/')"
   ]
  },
  {
   "cell_type": "code",
   "execution_count": 22,
   "id": "df2f5502",
   "metadata": {},
   "outputs": [],
   "source": [
    "lab = LabelEncoder()\n",
    "train_yT = lab.fit_transform(train_y)\n",
    "X_train, X_val, y_train, y_val = train_test_split(train_X, train_yT, test_size=0.25, random_state=10, stratify=train_yT)"
   ]
  },
  {
   "cell_type": "code",
   "execution_count": 33,
   "id": "30f0d112",
   "metadata": {},
   "outputs": [],
   "source": [
    "standard_params = {\n",
    "    'n_jobs':4,\n",
    "    'tree_method': 'hist',\n",
    "    'booster': 'gbtree',\n",
    "    'max_bin': 256\n",
    "}"
   ]
  },
  {
   "cell_type": "code",
   "execution_count": 34,
   "id": "3f185154",
   "metadata": {},
   "outputs": [],
   "source": [
    "def objective(space):\n",
    "    xgb_cl = XGBClassifier(**space, **standard_params, eval_metric=\"error\", early_stopping_rounds=10)\n",
    "    \n",
    "    fit_params={'verbose': False, 'eval_set': [[X_val, y_val]]}\n",
    "    \n",
    "    score = cross_val_score(estimator=xgb_cl, X=X_train, y=y_train, cv=skf, fit_params=fit_params, scoring='f1').mean()\n",
    "\n",
    "    return {'loss': -score, 'status':STATUS_OK}\n",
    "    "
   ]
  },
  {
   "cell_type": "code",
   "execution_count": 35,
   "id": "9ebe960b",
   "metadata": {},
   "outputs": [],
   "source": [
    "hyper_space = {\n",
    "    'n_estimators': hp.randint('n_estimators', 100, 1000),\n",
    "    'learning_rate': hp.uniform('learning_rate', 0.01, 0.3),\n",
    "    'max_depth': hp.randint('max_depth', 3, 18),\n",
    "    'subsample': hp.uniform('subsample', 0.5, 1),\n",
    "    'colsample_bytree': hp.uniform('colsample_bytree', 0.5, 1),\n",
    "    'gamma': hp.uniform ('gamma', 0.01,9),\n",
    "#     'reg_alpha' : hp.quniform('reg_alpha', 40,180,1),\n",
    "#     'reg_lambda' : hp.uniform('reg_lambda', 0,1),\n",
    "    'min_child_weight' : hp.quniform('min_child_weight', 0, 10, 1)\n",
    "}"
   ]
  },
  {
   "cell_type": "code",
   "execution_count": 36,
   "id": "be0df11e",
   "metadata": {},
   "outputs": [
    {
     "name": "stdout",
     "output_type": "stream",
     "text": [
      "100%|██████| 100/100 [17:29<00:00, 10.50s/trial, best loss: -0.9468525595651057]\n"
     ]
    }
   ],
   "source": [
    "trials = Trials()\n",
    "best_params = fmin(fn=objective, space=hyper_space, algo=tpe.suggest, max_evals=100, trials=trials)"
   ]
  },
  {
   "cell_type": "code",
   "execution_count": 37,
   "id": "5cf4b7ed",
   "metadata": {},
   "outputs": [
    {
     "data": {
      "text/plain": [
       "{'colsample_bytree': 0.6317150680991094,\n",
       " 'gamma': 0.01504712763596594,\n",
       " 'learning_rate': 0.13102033630514603,\n",
       " 'max_depth': 16,\n",
       " 'min_child_weight': 7.0,\n",
       " 'n_estimators': 946,\n",
       " 'subsample': 0.9619442565997574}"
      ]
     },
     "execution_count": 37,
     "metadata": {},
     "output_type": "execute_result"
    }
   ],
   "source": [
    "best_params"
   ]
  },
  {
   "cell_type": "code",
   "execution_count": 38,
   "id": "0a1abd37",
   "metadata": {},
   "outputs": [
    {
     "data": {
      "text/html": [
       "<style>#sk-container-id-1 {color: black;background-color: white;}#sk-container-id-1 pre{padding: 0;}#sk-container-id-1 div.sk-toggleable {background-color: white;}#sk-container-id-1 label.sk-toggleable__label {cursor: pointer;display: block;width: 100%;margin-bottom: 0;padding: 0.3em;box-sizing: border-box;text-align: center;}#sk-container-id-1 label.sk-toggleable__label-arrow:before {content: \"▸\";float: left;margin-right: 0.25em;color: #696969;}#sk-container-id-1 label.sk-toggleable__label-arrow:hover:before {color: black;}#sk-container-id-1 div.sk-estimator:hover label.sk-toggleable__label-arrow:before {color: black;}#sk-container-id-1 div.sk-toggleable__content {max-height: 0;max-width: 0;overflow: hidden;text-align: left;background-color: #f0f8ff;}#sk-container-id-1 div.sk-toggleable__content pre {margin: 0.2em;color: black;border-radius: 0.25em;background-color: #f0f8ff;}#sk-container-id-1 input.sk-toggleable__control:checked~div.sk-toggleable__content {max-height: 200px;max-width: 100%;overflow: auto;}#sk-container-id-1 input.sk-toggleable__control:checked~label.sk-toggleable__label-arrow:before {content: \"▾\";}#sk-container-id-1 div.sk-estimator input.sk-toggleable__control:checked~label.sk-toggleable__label {background-color: #d4ebff;}#sk-container-id-1 div.sk-label input.sk-toggleable__control:checked~label.sk-toggleable__label {background-color: #d4ebff;}#sk-container-id-1 input.sk-hidden--visually {border: 0;clip: rect(1px 1px 1px 1px);clip: rect(1px, 1px, 1px, 1px);height: 1px;margin: -1px;overflow: hidden;padding: 0;position: absolute;width: 1px;}#sk-container-id-1 div.sk-estimator {font-family: monospace;background-color: #f0f8ff;border: 1px dotted black;border-radius: 0.25em;box-sizing: border-box;margin-bottom: 0.5em;}#sk-container-id-1 div.sk-estimator:hover {background-color: #d4ebff;}#sk-container-id-1 div.sk-parallel-item::after {content: \"\";width: 100%;border-bottom: 1px solid gray;flex-grow: 1;}#sk-container-id-1 div.sk-label:hover label.sk-toggleable__label {background-color: #d4ebff;}#sk-container-id-1 div.sk-serial::before {content: \"\";position: absolute;border-left: 1px solid gray;box-sizing: border-box;top: 0;bottom: 0;left: 50%;z-index: 0;}#sk-container-id-1 div.sk-serial {display: flex;flex-direction: column;align-items: center;background-color: white;padding-right: 0.2em;padding-left: 0.2em;position: relative;}#sk-container-id-1 div.sk-item {position: relative;z-index: 1;}#sk-container-id-1 div.sk-parallel {display: flex;align-items: stretch;justify-content: center;background-color: white;position: relative;}#sk-container-id-1 div.sk-item::before, #sk-container-id-1 div.sk-parallel-item::before {content: \"\";position: absolute;border-left: 1px solid gray;box-sizing: border-box;top: 0;bottom: 0;left: 50%;z-index: -1;}#sk-container-id-1 div.sk-parallel-item {display: flex;flex-direction: column;z-index: 1;position: relative;background-color: white;}#sk-container-id-1 div.sk-parallel-item:first-child::after {align-self: flex-end;width: 50%;}#sk-container-id-1 div.sk-parallel-item:last-child::after {align-self: flex-start;width: 50%;}#sk-container-id-1 div.sk-parallel-item:only-child::after {width: 0;}#sk-container-id-1 div.sk-dashed-wrapped {border: 1px dashed gray;margin: 0 0.4em 0.5em 0.4em;box-sizing: border-box;padding-bottom: 0.4em;background-color: white;}#sk-container-id-1 div.sk-label label {font-family: monospace;font-weight: bold;display: inline-block;line-height: 1.2em;}#sk-container-id-1 div.sk-label-container {text-align: center;}#sk-container-id-1 div.sk-container {/* jupyter's `normalize.less` sets `[hidden] { display: none; }` but bootstrap.min.css set `[hidden] { display: none !important; }` so we also need the `!important` here to be able to override the default hidden behavior on the sphinx rendered scikit-learn.org. See: https://github.com/scikit-learn/scikit-learn/issues/21755 */display: inline-block !important;position: relative;}#sk-container-id-1 div.sk-text-repr-fallback {display: none;}</style><div id=\"sk-container-id-1\" class=\"sk-top-container\"><div class=\"sk-text-repr-fallback\"><pre>XGBClassifier(base_score=None, booster=&#x27;gbtree&#x27;, callbacks=None,\n",
       "              colsample_bylevel=None, colsample_bynode=None,\n",
       "              colsample_bytree=0.6317150680991094, early_stopping_rounds=None,\n",
       "              enable_categorical=False, eval_metric=None, feature_types=None,\n",
       "              gamma=0.01504712763596594, gpu_id=None, grow_policy=None,\n",
       "              importance_type=None, interaction_constraints=None,\n",
       "              learning_rate=0.13102033630514603, max_bin=256,\n",
       "              max_cat_threshold=None, max_cat_to_onehot=None,\n",
       "              max_delta_step=None, max_depth=16, max_leaves=None,\n",
       "              min_child_weight=7.0, missing=nan, monotone_constraints=None,\n",
       "              n_estimators=946, n_jobs=4, num_parallel_tree=None,\n",
       "              predictor=None, random_state=None, ...)</pre><b>In a Jupyter environment, please rerun this cell to show the HTML representation or trust the notebook. <br />On GitHub, the HTML representation is unable to render, please try loading this page with nbviewer.org.</b></div><div class=\"sk-container\" hidden><div class=\"sk-item\"><div class=\"sk-estimator sk-toggleable\"><input class=\"sk-toggleable__control sk-hidden--visually\" id=\"sk-estimator-id-1\" type=\"checkbox\" checked><label for=\"sk-estimator-id-1\" class=\"sk-toggleable__label sk-toggleable__label-arrow\">XGBClassifier</label><div class=\"sk-toggleable__content\"><pre>XGBClassifier(base_score=None, booster=&#x27;gbtree&#x27;, callbacks=None,\n",
       "              colsample_bylevel=None, colsample_bynode=None,\n",
       "              colsample_bytree=0.6317150680991094, early_stopping_rounds=None,\n",
       "              enable_categorical=False, eval_metric=None, feature_types=None,\n",
       "              gamma=0.01504712763596594, gpu_id=None, grow_policy=None,\n",
       "              importance_type=None, interaction_constraints=None,\n",
       "              learning_rate=0.13102033630514603, max_bin=256,\n",
       "              max_cat_threshold=None, max_cat_to_onehot=None,\n",
       "              max_delta_step=None, max_depth=16, max_leaves=None,\n",
       "              min_child_weight=7.0, missing=nan, monotone_constraints=None,\n",
       "              n_estimators=946, n_jobs=4, num_parallel_tree=None,\n",
       "              predictor=None, random_state=None, ...)</pre></div></div></div></div></div>"
      ],
      "text/plain": [
       "XGBClassifier(base_score=None, booster='gbtree', callbacks=None,\n",
       "              colsample_bylevel=None, colsample_bynode=None,\n",
       "              colsample_bytree=0.6317150680991094, early_stopping_rounds=None,\n",
       "              enable_categorical=False, eval_metric=None, feature_types=None,\n",
       "              gamma=0.01504712763596594, gpu_id=None, grow_policy=None,\n",
       "              importance_type=None, interaction_constraints=None,\n",
       "              learning_rate=0.13102033630514603, max_bin=256,\n",
       "              max_cat_threshold=None, max_cat_to_onehot=None,\n",
       "              max_delta_step=None, max_depth=16, max_leaves=None,\n",
       "              min_child_weight=7.0, missing=nan, monotone_constraints=None,\n",
       "              n_estimators=946, n_jobs=4, num_parallel_tree=None,\n",
       "              predictor=None, random_state=None, ...)"
      ]
     },
     "execution_count": 38,
     "metadata": {},
     "output_type": "execute_result"
    }
   ],
   "source": [
    "classifier = XGBClassifier(**best_params, **standard_params)\n",
    "classifier.fit(X=train_X, y=train_yT)"
   ]
  },
  {
   "cell_type": "code",
   "execution_count": 39,
   "id": "1eced320",
   "metadata": {},
   "outputs": [
    {
     "name": "stdout",
     "output_type": "stream",
     "text": [
      "[1 1 1 ... 1 1 0]\n",
      "[2 2 2 ... 2 2 1]\n"
     ]
    }
   ],
   "source": [
    "pred_vals = classifier.predict(test_df)\n",
    "print(pred_vals)\n",
    "new_pred = lab.inverse_transform(pred_vals)\n",
    "print(new_pred)\n",
    "final_df = pd.read_csv(base_path.joinpath('test_II.csv'))\n",
    "final_df['Predicted'] = new_pred\n",
    "final_df.columns = ['Id', 'Predicted']\n",
    "final_df.to_csv(submission_path.joinpath('submission30.csv'), index=False)"
   ]
  },
  {
   "cell_type": "code",
   "execution_count": 42,
   "id": "5cc4bf5e",
   "metadata": {},
   "outputs": [],
   "source": [
    "def pred_and_sub(classifier, sub_no):\n",
    "    classifier.fit(X=train_X, y=train_yT)\n",
    "    pred_vals = classifier.predict(test_df)\n",
    "    print(pred_vals)\n",
    "    new_pred = lab.inverse_transform(pred_vals)\n",
    "    print(new_pred)\n",
    "    final_df = pd.read_csv(base_path.joinpath('test_II.csv'))\n",
    "    final_df['Predicted'] = new_pred\n",
    "    final_df.columns = ['Id', 'Predicted']\n",
    "    final_df.to_csv(submission_path.joinpath(f'submission{sub_no}.csv'), index=False)"
   ]
  },
  {
   "cell_type": "code",
   "execution_count": 41,
   "id": "8b2d4edd",
   "metadata": {},
   "outputs": [
    {
     "name": "stdout",
     "output_type": "stream",
     "text": [
      "0.9478050551602809\n"
     ]
    }
   ],
   "source": [
    "params = {'colsample_bytree': 0.6317150680991094,\n",
    " 'gamma': 0.01504712763596594,\n",
    " 'learning_rate': 0.13102033630514603,\n",
    " 'max_depth': 16,\n",
    " 'min_child_weight': 7.0,\n",
    " 'n_estimators': 600,\n",
    " 'subsample': 0.9619442565997574}\n",
    "classifier2 = XGBClassifier(**params, **standard_params)\n",
    "scores = cross_validate(estimator=classifier2, X=train_X, y=train_yT,cv=skf, scoring='f1', n_jobs=4)\n",
    "print(np.mean(scores['test_score']))"
   ]
  },
  {
   "cell_type": "code",
   "execution_count": 43,
   "id": "3d2b67c4",
   "metadata": {},
   "outputs": [
    {
     "name": "stdout",
     "output_type": "stream",
     "text": [
      "[1 1 1 ... 1 1 0]\n",
      "[2 2 2 ... 2 2 1]\n"
     ]
    }
   ],
   "source": [
    "pred_and_sub(classifier2, 31)"
   ]
  },
  {
   "cell_type": "code",
   "execution_count": 44,
   "id": "7f241271",
   "metadata": {},
   "outputs": [
    {
     "name": "stdout",
     "output_type": "stream",
     "text": [
      "0.9484920955965365\n"
     ]
    }
   ],
   "source": [
    "params = {'colsample_bytree': 0.6317150680991094,\n",
    " 'gamma': 0.01504712763596594,\n",
    " 'learning_rate': 0.13102033630514603,\n",
    " 'max_depth': 12,\n",
    " 'min_child_weight': 7.0,\n",
    " 'n_estimators': 600,\n",
    " 'subsample': 0.9619442565997574}\n",
    "classifier3 = XGBClassifier(**params, **standard_params)\n",
    "scores = cross_validate(estimator=classifier3, X=train_X, y=train_yT,cv=skf, scoring='f1', n_jobs=4)\n",
    "print(np.mean(scores['test_score']))"
   ]
  },
  {
   "cell_type": "code",
   "execution_count": 45,
   "id": "8a636980",
   "metadata": {},
   "outputs": [
    {
     "name": "stdout",
     "output_type": "stream",
     "text": [
      "[1 1 1 ... 1 1 1]\n",
      "[2 2 2 ... 2 2 2]\n"
     ]
    }
   ],
   "source": [
    "pred_and_sub(classifier3, 32)"
   ]
  },
  {
   "cell_type": "code",
   "execution_count": 46,
   "id": "32bf5ebe",
   "metadata": {},
   "outputs": [
    {
     "name": "stdout",
     "output_type": "stream",
     "text": [
      "0.9491106314801445\n"
     ]
    }
   ],
   "source": [
    "params = {'colsample_bytree': 0.6317150680991094,\n",
    " 'gamma': 0.01504712763596594,\n",
    " 'learning_rate': 0.13102033630514603,\n",
    " 'max_depth': 10,\n",
    " 'min_child_weight': 7.0,\n",
    " 'n_estimators': 600,\n",
    " 'subsample': 0.9619442565997574}\n",
    "classifier4 = XGBClassifier(**params, **standard_params)\n",
    "scores = cross_validate(estimator=classifier4, X=train_X, y=train_yT,cv=skf, scoring='f1', n_jobs=4)\n",
    "print(np.mean(scores['test_score']))"
   ]
  },
  {
   "cell_type": "code",
   "execution_count": 47,
   "id": "feaf2b31",
   "metadata": {},
   "outputs": [
    {
     "name": "stdout",
     "output_type": "stream",
     "text": [
      "[1 1 1 ... 1 1 0]\n",
      "[2 2 2 ... 2 2 1]\n"
     ]
    }
   ],
   "source": [
    "pred_and_sub(classifier4, 33)"
   ]
  },
  {
   "cell_type": "code",
   "execution_count": 48,
   "id": "a2c03ea3",
   "metadata": {},
   "outputs": [
    {
     "name": "stdout",
     "output_type": "stream",
     "text": [
      "0.948928407677293\n"
     ]
    }
   ],
   "source": [
    "params = {'colsample_bytree': 0.6317150680991094,\n",
    " 'gamma': 0.01504712763596594,\n",
    " 'learning_rate': 0.13102033630514603,\n",
    " 'max_depth': 10,\n",
    " 'min_child_weight': 7.0,\n",
    " 'n_estimators': 650,\n",
    " 'subsample': 0.9619442565997574}\n",
    "classifier5 = XGBClassifier(**params, **standard_params)\n",
    "scores = cross_validate(estimator=classifier5, X=train_X, y=train_yT,cv=skf, scoring='f1', n_jobs=4)\n",
    "print(np.mean(scores['test_score']))"
   ]
  },
  {
   "cell_type": "code",
   "execution_count": 49,
   "id": "294b95cd",
   "metadata": {},
   "outputs": [
    {
     "name": "stdout",
     "output_type": "stream",
     "text": [
      "[1 1 1 ... 1 1 0]\n",
      "[2 2 2 ... 2 2 1]\n"
     ]
    }
   ],
   "source": [
    "pred_and_sub(classifier5, 34)"
   ]
  },
  {
   "cell_type": "code",
   "execution_count": 59,
   "id": "14890b56",
   "metadata": {},
   "outputs": [
    {
     "name": "stdout",
     "output_type": "stream",
     "text": [
      "0.9475872633906605\n"
     ]
    }
   ],
   "source": [
    "params = {'colsample_bytree': 0.6317150680991094,\n",
    " 'gamma': 0.01504712763596594,\n",
    " 'learning_rate': 0.13102033630514603,\n",
    " 'max_depth': 16,\n",
    " 'min_child_weight': 7.0,\n",
    " 'n_estimators': 700,\n",
    " 'subsample': 0.9619442565997574}\n",
    "classifier6 = XGBClassifier(**params, **standard_params)\n",
    "scores = cross_validate(estimator=classifier6, X=train_X, y=train_yT,cv=skf, scoring='f1', n_jobs=4)\n",
    "print(np.mean(scores['test_score']))"
   ]
  },
  {
   "cell_type": "code",
   "execution_count": 56,
   "id": "035acb7d",
   "metadata": {},
   "outputs": [
    {
     "name": "stdout",
     "output_type": "stream",
     "text": [
      "[1 1 1 ... 1 1 1]\n",
      "[2 2 2 ... 2 2 2]\n"
     ]
    }
   ],
   "source": [
    "pred_and_sub(classifier6, 35)"
   ]
  },
  {
   "cell_type": "code",
   "execution_count": 60,
   "id": "0017ab4c",
   "metadata": {},
   "outputs": [
    {
     "name": "stdout",
     "output_type": "stream",
     "text": [
      "0.9482267522828923\n"
     ]
    }
   ],
   "source": [
    "params = {'colsample_bytree': 0.6317150680991094,\n",
    " 'gamma': 0.01504712763596594,\n",
    " 'learning_rate': 0.11102033630514603,\n",
    " 'max_depth': 16,\n",
    " 'min_child_weight': 7.0,\n",
    " 'n_estimators': 600,\n",
    " 'subsample': 0.9619442565997574}\n",
    "classifier7 = XGBClassifier(**params, **standard_params)\n",
    "scores = cross_validate(estimator=classifier7, X=train_X, y=train_yT,cv=skf, scoring='f1', n_jobs=4)\n",
    "print(np.mean(scores['test_score']))"
   ]
  },
  {
   "cell_type": "code",
   "execution_count": 61,
   "id": "b876655f",
   "metadata": {},
   "outputs": [
    {
     "name": "stdout",
     "output_type": "stream",
     "text": [
      "[1 1 1 ... 1 1 0]\n",
      "[2 2 2 ... 2 2 1]\n"
     ]
    }
   ],
   "source": [
    "pred_and_sub(classifier7, 36)"
   ]
  },
  {
   "cell_type": "code",
   "execution_count": 62,
   "id": "d22aad71",
   "metadata": {},
   "outputs": [
    {
     "name": "stdout",
     "output_type": "stream",
     "text": [
      "0.9488939346948907\n"
     ]
    }
   ],
   "source": [
    "params = {'colsample_bytree': 0.6317150680991094,\n",
    " 'gamma': 0.01504712763596594,\n",
    " 'learning_rate': 0.10102033630514603,\n",
    " 'max_depth': 12,\n",
    " 'min_child_weight': 7.0,\n",
    " 'n_estimators': 660,\n",
    " 'subsample': 0.9619442565997574}\n",
    "classifier8 = XGBClassifier(**params, **standard_params)\n",
    "scores = cross_validate(estimator=classifier8, X=train_X, y=train_yT,cv=skf, scoring='f1', n_jobs=4)\n",
    "print(np.mean(scores['test_score']))"
   ]
  },
  {
   "cell_type": "code",
   "execution_count": 63,
   "id": "604d7905",
   "metadata": {},
   "outputs": [
    {
     "name": "stdout",
     "output_type": "stream",
     "text": [
      "[1 1 1 ... 1 1 0]\n",
      "[2 2 2 ... 2 2 1]\n"
     ]
    }
   ],
   "source": [
    "pred_and_sub(classifier8, 37)"
   ]
  },
  {
   "cell_type": "code",
   "execution_count": null,
   "id": "581b9058",
   "metadata": {},
   "outputs": [],
   "source": []
  }
 ],
 "metadata": {
  "kernelspec": {
   "display_name": "toxic",
   "language": "python",
   "name": "toxic"
  },
  "language_info": {
   "codemirror_mode": {
    "name": "ipython",
    "version": 3
   },
   "file_extension": ".py",
   "mimetype": "text/x-python",
   "name": "python",
   "nbconvert_exporter": "python",
   "pygments_lexer": "ipython3",
   "version": "3.10.0"
  }
 },
 "nbformat": 4,
 "nbformat_minor": 5
}
