{
 "cells": [
  {
   "cell_type": "code",
   "execution_count": 1,
   "id": "af755c46",
   "metadata": {},
   "outputs": [],
   "source": [
    "import pandas as pd\n",
    "import numpy as np\n",
    "import matplotlib.pyplot as plt\n",
    "from pathlib import Path\n",
    "from sklearn.metrics import roc_auc_score\n",
    "from sklearn.preprocessing import StandardScaler\n",
    "from sklearn.ensemble import RandomForestClassifier, GradientBoostingClassifier, HistGradientBoostingClassifier\n",
    "from sklearn.model_selection import GridSearchCV, StratifiedKFold, cross_validate\n",
    "from xgboost import XGBClassifier\n",
    "from sklearn.preprocessing import LabelEncoder"
   ]
  },
  {
   "cell_type": "code",
   "execution_count": 2,
   "id": "5d40b377",
   "metadata": {},
   "outputs": [],
   "source": [
    "base_path = Path().cwd().joinpath('content/datasets/')\n",
    "train_dataset = pd.read_csv(base_path.joinpath('train_molecular_data.csv'))\n",
    "test_dataset = pd.read_csv(base_path.joinpath('test_molecular_data.csv'))"
   ]
  },
  {
   "cell_type": "code",
   "execution_count": 3,
   "id": "5041b1a9",
   "metadata": {},
   "outputs": [],
   "source": [
    "train_dataset.fillna(0, inplace=True)\n",
    "test_dataset.fillna(0, inplace=True)"
   ]
  },
  {
   "cell_type": "code",
   "execution_count": 4,
   "id": "14a8cb91",
   "metadata": {},
   "outputs": [],
   "source": [
    "pd.set_option('display.max_rows',None)"
   ]
  },
  {
   "cell_type": "code",
   "execution_count": 5,
   "id": "aa4fe37c",
   "metadata": {},
   "outputs": [],
   "source": [
    "y_train = train_dataset.loc[:, 'Expected']\n",
    "X_train = train_dataset.drop('Expected', axis=1)"
   ]
  },
  {
   "cell_type": "code",
   "execution_count": 53,
   "id": "3402c73e",
   "metadata": {},
   "outputs": [],
   "source": [
    "# cols = X_train.columns\n",
    "# sc = StandardScaler()\n",
    "# X_train = sc.fit_transform(X_train)\n",
    "# X_train = pd.DataFrame(data=X_train, columns=cols)"
   ]
  },
  {
   "cell_type": "code",
   "execution_count": 54,
   "id": "5d460d30",
   "metadata": {},
   "outputs": [],
   "source": [
    "# test_cols = test_dataset.columns\n",
    "# test_dataset = sc.fit_transform(test_dataset)\n",
    "# test_dataset = pd.DataFrame(data=test_dataset, columns=test_cols)"
   ]
  },
  {
   "cell_type": "code",
   "execution_count": 6,
   "id": "00a293c0",
   "metadata": {},
   "outputs": [
    {
     "data": {
      "text/html": [
       "<div>\n",
       "<style scoped>\n",
       "    .dataframe tbody tr th:only-of-type {\n",
       "        vertical-align: middle;\n",
       "    }\n",
       "\n",
       "    .dataframe tbody tr th {\n",
       "        vertical-align: top;\n",
       "    }\n",
       "\n",
       "    .dataframe thead th {\n",
       "        text-align: right;\n",
       "    }\n",
       "</style>\n",
       "<table border=\"1\" class=\"dataframe\">\n",
       "  <thead>\n",
       "    <tr style=\"text-align: right;\">\n",
       "      <th></th>\n",
       "      <th>Assay Id</th>\n",
       "      <th>MaxEStateIndex</th>\n",
       "      <th>MinEStateIndex</th>\n",
       "      <th>MaxAbsEStateIndex</th>\n",
       "      <th>MinAbsEStateIndex</th>\n",
       "      <th>qed</th>\n",
       "      <th>MolWt</th>\n",
       "      <th>HeavyAtomMolWt</th>\n",
       "      <th>ExactMolWt</th>\n",
       "      <th>NumValenceElectrons</th>\n",
       "      <th>...</th>\n",
       "      <th>fr_sulfide</th>\n",
       "      <th>fr_sulfonamd</th>\n",
       "      <th>fr_sulfone</th>\n",
       "      <th>fr_term_acetylene</th>\n",
       "      <th>fr_tetrazole</th>\n",
       "      <th>fr_thiazole</th>\n",
       "      <th>fr_thiocyan</th>\n",
       "      <th>fr_thiophene</th>\n",
       "      <th>fr_unbrch_alkane</th>\n",
       "      <th>fr_urea</th>\n",
       "    </tr>\n",
       "  </thead>\n",
       "  <tbody>\n",
       "    <tr>\n",
       "      <th>0</th>\n",
       "      <td>0.617</td>\n",
       "      <td>0.519</td>\n",
       "      <td>0.504</td>\n",
       "      <td>0.519</td>\n",
       "      <td>0.526</td>\n",
       "      <td>0.508</td>\n",
       "      <td>0.586</td>\n",
       "      <td>0.584</td>\n",
       "      <td>0.586</td>\n",
       "      <td>0.579</td>\n",
       "      <td>...</td>\n",
       "      <td>0.502</td>\n",
       "      <td>0.509</td>\n",
       "      <td>0.501</td>\n",
       "      <td>0.5</td>\n",
       "      <td>0.5</td>\n",
       "      <td>0.502</td>\n",
       "      <td>0.501</td>\n",
       "      <td>0.502</td>\n",
       "      <td>0.502</td>\n",
       "      <td>0.511</td>\n",
       "    </tr>\n",
       "  </tbody>\n",
       "</table>\n",
       "<p>1 rows × 209 columns</p>\n",
       "</div>"
      ],
      "text/plain": [
       "   Assay Id  MaxEStateIndex  MinEStateIndex  MaxAbsEStateIndex  \\\n",
       "0     0.617           0.519           0.504              0.519   \n",
       "\n",
       "   MinAbsEStateIndex    qed  MolWt  HeavyAtomMolWt  ExactMolWt  \\\n",
       "0              0.526  0.508  0.586           0.584       0.586   \n",
       "\n",
       "   NumValenceElectrons  ...  fr_sulfide  fr_sulfonamd  fr_sulfone  \\\n",
       "0                0.579  ...       0.502         0.509       0.501   \n",
       "\n",
       "   fr_term_acetylene  fr_tetrazole  fr_thiazole  fr_thiocyan  fr_thiophene  \\\n",
       "0                0.5           0.5        0.502        0.501         0.502   \n",
       "\n",
       "   fr_unbrch_alkane  fr_urea  \n",
       "0             0.502    0.511  \n",
       "\n",
       "[1 rows x 209 columns]"
      ]
     },
     "execution_count": 6,
     "metadata": {},
     "output_type": "execute_result"
    }
   ],
   "source": [
    "auc_scores = []\n",
    "\n",
    "for col in X_train:\n",
    "    feature = X_train[col]\n",
    "    auc = round(roc_auc_score(y_train, feature), 3)\n",
    "    if auc < 0.5:\n",
    "        auc = 1 - auc\n",
    "    auc_scores.append(round(auc, 3))\n",
    "\n",
    "auc_frame = pd.DataFrame(data=np.array(auc_scores).reshape(1, 209),columns=X_train.columns)\n",
    "auc_frame\n"
   ]
  },
  {
   "cell_type": "code",
   "execution_count": 7,
   "id": "52c8d8c4",
   "metadata": {},
   "outputs": [],
   "source": [
    "rfc = RandomForestClassifier(n_estimators=500)\n",
    "model = rfc.fit(X_train, y_train)"
   ]
  },
  {
   "cell_type": "code",
   "execution_count": 8,
   "id": "50073f89",
   "metadata": {},
   "outputs": [
    {
     "data": {
      "text/plain": [
       "array([[2],\n",
       "       [2],\n",
       "       [2],\n",
       "       ...,\n",
       "       [2],\n",
       "       [2],\n",
       "       [1]])"
      ]
     },
     "execution_count": 8,
     "metadata": {},
     "output_type": "execute_result"
    }
   ],
   "source": [
    "pred = model.predict(test_dataset)\n",
    "pred.reshape(-1, 1)"
   ]
  },
  {
   "cell_type": "code",
   "execution_count": 9,
   "id": "b994e06d",
   "metadata": {},
   "outputs": [],
   "source": [
    "final_df = pd.read_csv(base_path.joinpath('test_II.csv'))\n",
    "final_df['Predicted'] = pred\n",
    "final_df.columns = ['Id', 'Predicted']"
   ]
  },
  {
   "cell_type": "code",
   "execution_count": 10,
   "id": "f1136385",
   "metadata": {},
   "outputs": [
    {
     "data": {
      "text/plain": [
       "(10994, 2)"
      ]
     },
     "execution_count": 10,
     "metadata": {},
     "output_type": "execute_result"
    }
   ],
   "source": [
    "final_df.shape"
   ]
  },
  {
   "cell_type": "code",
   "execution_count": 11,
   "id": "2f3b8729",
   "metadata": {},
   "outputs": [],
   "source": [
    "submission_path = Path().cwd().joinpath('content/submissions/')\n",
    "final_df.to_csv(submission_path.joinpath('submission4.csv'), index=False)"
   ]
  },
  {
   "cell_type": "code",
   "execution_count": 12,
   "id": "f91c23f3",
   "metadata": {},
   "outputs": [],
   "source": [
    "rfc = RandomForestClassifier(n_estimators=100)\n",
    "model = rfc.fit(X_train, y_train)"
   ]
  },
  {
   "cell_type": "code",
   "execution_count": 13,
   "id": "46750bf9",
   "metadata": {},
   "outputs": [
    {
     "data": {
      "text/plain": [
       "array([[2],\n",
       "       [2],\n",
       "       [2],\n",
       "       ...,\n",
       "       [2],\n",
       "       [2],\n",
       "       [1]])"
      ]
     },
     "execution_count": 13,
     "metadata": {},
     "output_type": "execute_result"
    }
   ],
   "source": [
    "pred = model.predict(test_dataset)\n",
    "pred.reshape(-1, 1)"
   ]
  },
  {
   "cell_type": "code",
   "execution_count": 14,
   "id": "1c925289",
   "metadata": {},
   "outputs": [],
   "source": [
    "final_df = pd.read_csv(base_path.joinpath('test_II.csv'))\n",
    "final_df['Predicted'] = pred\n",
    "final_df.columns = ['Id', 'Predicted']"
   ]
  },
  {
   "cell_type": "code",
   "execution_count": 15,
   "id": "248d237e",
   "metadata": {},
   "outputs": [
    {
     "data": {
      "text/plain": [
       "(10994, 2)"
      ]
     },
     "execution_count": 15,
     "metadata": {},
     "output_type": "execute_result"
    }
   ],
   "source": [
    "final_df.shape"
   ]
  },
  {
   "cell_type": "code",
   "execution_count": 16,
   "id": "09dd425e",
   "metadata": {},
   "outputs": [],
   "source": [
    "submission_path = Path().cwd().joinpath('content/submissions/')\n",
    "final_df.to_csv(submission_path.joinpath('submission6.csv'), index=False)"
   ]
  },
  {
   "cell_type": "code",
   "execution_count": 17,
   "id": "92b7bdc8",
   "metadata": {},
   "outputs": [],
   "source": [
    "gb = GradientBoostingClassifier()\n",
    "gb_model = gb.fit(X_train,y_train)"
   ]
  },
  {
   "cell_type": "code",
   "execution_count": 18,
   "id": "933c7108",
   "metadata": {},
   "outputs": [
    {
     "data": {
      "text/plain": [
       "array([[2],\n",
       "       [2],\n",
       "       [2],\n",
       "       ...,\n",
       "       [2],\n",
       "       [2],\n",
       "       [2]])"
      ]
     },
     "execution_count": 18,
     "metadata": {},
     "output_type": "execute_result"
    }
   ],
   "source": [
    "y_pred = gb_model.predict(test_dataset)\n",
    "y_pred.reshape(-1, 1)"
   ]
  },
  {
   "cell_type": "code",
   "execution_count": 19,
   "id": "47235f0e",
   "metadata": {},
   "outputs": [],
   "source": [
    "final_df = pd.read_csv(base_path.joinpath('test_II.csv'))\n",
    "final_df['Predicted'] = y_pred\n",
    "final_df.columns = ['Id', 'Predicted']"
   ]
  },
  {
   "cell_type": "code",
   "execution_count": 20,
   "id": "5ca21fdb",
   "metadata": {},
   "outputs": [
    {
     "data": {
      "text/plain": [
       "(10994, 2)"
      ]
     },
     "execution_count": 20,
     "metadata": {},
     "output_type": "execute_result"
    }
   ],
   "source": [
    "final_df.shape"
   ]
  },
  {
   "cell_type": "code",
   "execution_count": 21,
   "id": "3eccb672",
   "metadata": {},
   "outputs": [],
   "source": [
    "submission_path = Path().cwd().joinpath('content/submissions/')\n",
    "final_df.to_csv(submission_path.joinpath('submission7.csv'), index=False)"
   ]
  },
  {
   "cell_type": "code",
   "execution_count": 22,
   "id": "04f5df2e",
   "metadata": {},
   "outputs": [],
   "source": [
    "hb = HistGradientBoostingClassifier()\n",
    "hb_model = hb.fit(X_train, y_train)"
   ]
  },
  {
   "cell_type": "code",
   "execution_count": 23,
   "id": "40eddccd",
   "metadata": {},
   "outputs": [],
   "source": [
    "y_predicted = hb_model.predict(test_dataset)"
   ]
  },
  {
   "cell_type": "code",
   "execution_count": 24,
   "id": "b4c11449",
   "metadata": {},
   "outputs": [],
   "source": [
    "final_df = pd.read_csv(base_path.joinpath('test_II.csv'))\n",
    "final_df['Predicted'] = y_predicted\n",
    "final_df.columns = ['Id', 'Predicted']"
   ]
  },
  {
   "cell_type": "code",
   "execution_count": 25,
   "id": "fa7e03a0",
   "metadata": {},
   "outputs": [],
   "source": [
    "final_df.to_csv(submission_path.joinpath('submission8.csv'), index=False)"
   ]
  },
  {
   "cell_type": "code",
   "execution_count": 26,
   "id": "f4567110",
   "metadata": {},
   "outputs": [
    {
     "name": "stdout",
     "output_type": "stream",
     "text": [
      "{'learning_rate': 0.2, 'max_depth': 12} 0.576137527035391\n"
     ]
    }
   ],
   "source": [
    "hsb = HistGradientBoostingClassifier()\n",
    "param = {'max_depth': [10, 12], 'learning_rate': [0.2, 0.1]}\n",
    "gs = GridSearchCV(estimator=hsb, param_grid=param, cv=5, scoring='f1', n_jobs=6)\n",
    "gs.fit(X_train, y_train)\n",
    "print(gs.best_params_, gs.best_score_)"
   ]
  },
  {
   "cell_type": "code",
   "execution_count": 13,
   "id": "972eeb54",
   "metadata": {},
   "outputs": [
    {
     "name": "stdout",
     "output_type": "stream",
     "text": [
      "0.9459673027005578\n"
     ]
    }
   ],
   "source": [
    "xgb = XGBClassifier()\n",
    "lab = LabelEncoder()\n",
    "y_data = lab.fit_transform(y_train)\n",
    "skf = StratifiedKFold(n_splits=5, random_state=10, shuffle=True)\n",
    "scores = cross_validate(estimator=xgb, X=X_train, y=y_data,cv=skf, scoring='f1', n_jobs=6)\n",
    "print(np.mean(scores['test_score']))"
   ]
  },
  {
   "cell_type": "code",
   "execution_count": 8,
   "id": "13cbabd0",
   "metadata": {},
   "outputs": [
    {
     "name": "stdout",
     "output_type": "stream",
     "text": [
      "[0 1 1 ... 1 1 1]\n"
     ]
    }
   ],
   "source": [
    "model = xgb.fit(X_train, y_data)\n",
    "pred_vals = model.predict(test_dataset)\n",
    "print(pred_vals)"
   ]
  },
  {
   "cell_type": "code",
   "execution_count": 9,
   "id": "444f3983",
   "metadata": {},
   "outputs": [
    {
     "name": "stdout",
     "output_type": "stream",
     "text": [
      "[1 2 2 ... 2 2 2]\n"
     ]
    }
   ],
   "source": [
    "new_pred = lab.inverse_transform(pred_vals)\n",
    "print(new_pred)"
   ]
  },
  {
   "cell_type": "code",
   "execution_count": 11,
   "id": "75509cc5",
   "metadata": {},
   "outputs": [],
   "source": [
    "final_df = pd.read_csv(base_path.joinpath('test_II.csv'))\n",
    "final_df['Predicted'] = new_pred\n",
    "final_df.columns = ['Id', 'Predicted']"
   ]
  },
  {
   "cell_type": "code",
   "execution_count": 12,
   "id": "901ffa28",
   "metadata": {},
   "outputs": [],
   "source": [
    "submission_path = Path().cwd().joinpath('content/submissions/')\n",
    "final_df.to_csv(submission_path.joinpath('submission9.csv'), index=False)"
   ]
  },
  {
   "cell_type": "code",
   "execution_count": 22,
   "id": "27fe3255",
   "metadata": {},
   "outputs": [
    {
     "name": "stdout",
     "output_type": "stream",
     "text": [
      "0.9484676046017727\n"
     ]
    }
   ],
   "source": [
    "xgb2 = XGBClassifier(tree_method='hist', max_bin=255, n_estimators=500)\n",
    "lab = LabelEncoder()\n",
    "y_data = lab.fit_transform(y_train)\n",
    "skf = StratifiedKFold(n_splits=5, random_state=10, shuffle=True)\n",
    "scores = cross_validate(estimator=xgb2, X=X_train, y=y_data,cv=skf, scoring='f1', n_jobs=6)\n",
    "print(np.mean(scores['test_score']))"
   ]
  },
  {
   "cell_type": "code",
   "execution_count": 23,
   "id": "f7aedf82",
   "metadata": {},
   "outputs": [
    {
     "name": "stdout",
     "output_type": "stream",
     "text": [
      "[1 1 1 ... 1 1 1]\n"
     ]
    }
   ],
   "source": [
    "model = xgb2.fit(X_train, y_data)\n",
    "pred_vals = model.predict(test_dataset)\n",
    "print(pred_vals)"
   ]
  },
  {
   "cell_type": "code",
   "execution_count": 24,
   "id": "064909af",
   "metadata": {},
   "outputs": [
    {
     "name": "stdout",
     "output_type": "stream",
     "text": [
      "[2 2 2 ... 2 2 2]\n"
     ]
    }
   ],
   "source": [
    "new_pred = lab.inverse_transform(pred_vals)\n",
    "print(new_pred)"
   ]
  },
  {
   "cell_type": "code",
   "execution_count": 25,
   "id": "13a2224e",
   "metadata": {},
   "outputs": [],
   "source": [
    "final_df = pd.read_csv(base_path.joinpath('test_II.csv'))\n",
    "final_df['Predicted'] = new_pred\n",
    "final_df.columns = ['Id', 'Predicted']"
   ]
  },
  {
   "cell_type": "code",
   "execution_count": 26,
   "id": "eafccbbf",
   "metadata": {},
   "outputs": [],
   "source": [
    "final_df.to_csv(submission_path.joinpath('submission10.csv'), index=False)"
   ]
  }
 ],
 "metadata": {
  "kernelspec": {
   "display_name": "toxic",
   "language": "python",
   "name": "toxic"
  },
  "language_info": {
   "codemirror_mode": {
    "name": "ipython",
    "version": 3
   },
   "file_extension": ".py",
   "mimetype": "text/x-python",
   "name": "python",
   "nbconvert_exporter": "python",
   "pygments_lexer": "ipython3",
   "version": "3.10.0"
  }
 },
 "nbformat": 4,
 "nbformat_minor": 5
}
